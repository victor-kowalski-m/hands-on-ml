{
 "cells": [
  {
   "cell_type": "code",
   "execution_count": 1,
   "id": "3b2ca1de",
   "metadata": {},
   "outputs": [],
   "source": [
    "import os\n",
    "import tarfile\n",
    "import urllib\n",
    "import re\n",
    "import bz2\n",
    "import pandas as pd\n",
    "import numpy as np\n",
    "import unicodedata"
   ]
  },
  {
   "cell_type": "code",
   "execution_count": 2,
   "id": "c78d33e3",
   "metadata": {},
   "outputs": [],
   "source": [
    "DOWNLOAD_ROOT = \"https://spamassassin.apache.org\"\n",
    "SPAM_PATH = os.path.join(\"datasets\", \"spam\")\n",
    "SPAM_URL = DOWNLOAD_ROOT + \"/old/publiccorpus/\"\n",
    "\n",
    "def fetch_spam_data(spam_url=SPAM_URL, spam_path=SPAM_PATH):\n",
    "    os.makedirs(spam_path, exist_ok=True)\n",
    "    urlpath = urllib.request.urlopen('https://spamassassin.apache.org/old/publiccorpus/')\n",
    "    string = urlpath.read().decode('utf-8')\n",
    "    pattern = re.compile('href=\".*\\.bz2\"')\n",
    "    filelist = [f[6:-1] for f in pattern.findall(string)]\n",
    "    for f in filelist:\n",
    "        bz2path = os.path.join(spam_path, f)\n",
    "        urllib.request.urlretrieve(spam_url+f, bz2path)\n",
    "        with bz2.BZ2File(bz2path) as bz2_file:\n",
    "            data = bz2_file.read()\n",
    "        tarpath = bz2path[:-4]\n",
    "        open(tarpath, 'wb').write(data)\n",
    "        with tarfile.open(tarpath) as tar_file:\n",
    "            tar_file.extractall(path=spam_path)\n",
    "        os.remove(bz2path)\n",
    "        os.remove(tarpath)"
   ]
  },
  {
   "cell_type": "code",
   "execution_count": 3,
   "id": "882e30fb",
   "metadata": {
    "scrolled": true
   },
   "outputs": [],
   "source": [
    "contents = []\n",
    "cats = []\n",
    "\n",
    "for cat in os.listdir(SPAM_PATH):\n",
    "    cat_path = os.path.join(SPAM_PATH, cat)\n",
    "    cat_files = os.listdir(cat_path)\n",
    "    cat_contents = [open(os.path.join(cat_path, f), encoding='ansi').read() for f in cat_files if f != \"cmds\"]\n",
    "    contents += cat_contents\n",
    "    cats += [cat] * len(cat_contents)\n",
    "    \n",
    "emails = pd.DataFrame(data={'Content': contents, 'Cat': cats})"
   ]
  },
  {
   "cell_type": "code",
   "execution_count": 4,
   "id": "bfe0db23",
   "metadata": {},
   "outputs": [
    {
     "name": "stdout",
     "output_type": "stream",
     "text": [
      "<class 'pandas.core.frame.DataFrame'>\n",
      "RangeIndex: 9349 entries, 0 to 9348\n",
      "Data columns (total 2 columns):\n",
      " #   Column   Non-Null Count  Dtype \n",
      "---  ------   --------------  ----- \n",
      " 0   Content  9349 non-null   object\n",
      " 1   Cat      9349 non-null   object\n",
      "dtypes: object(2)\n",
      "memory usage: 146.2+ KB\n"
     ]
    }
   ],
   "source": [
    "emails.info()"
   ]
  },
  {
   "cell_type": "code",
   "execution_count": 5,
   "id": "be6f75d9",
   "metadata": {
    "scrolled": true
   },
   "outputs": [
    {
     "data": {
      "text/plain": [
       "easy_ham      5051\n",
       "easy_ham_2    1400\n",
       "spam_2        1397\n",
       "spam          1001\n",
       "hard_ham       500\n",
       "Name: Cat, dtype: int64"
      ]
     },
     "execution_count": 5,
     "metadata": {},
     "output_type": "execute_result"
    }
   ],
   "source": [
    "emails['Cat'].value_counts()"
   ]
  },
  {
   "cell_type": "code",
   "execution_count": 6,
   "id": "06d9e8a2",
   "metadata": {},
   "outputs": [],
   "source": [
    "emails[\"Cat\"] = emails.apply(lambda row: row[\"Cat\"][:-2] if (row[\"Cat\"][-2] == '_' and row[\"Cat\"][-1].isdigit()) else row[\"Cat\"], axis=1)"
   ]
  },
  {
   "cell_type": "code",
   "execution_count": 7,
   "id": "1a145969",
   "metadata": {
    "scrolled": false
   },
   "outputs": [
    {
     "data": {
      "text/plain": [
       "easy_ham    0.690020\n",
       "spam        0.256498\n",
       "hard_ham    0.053482\n",
       "Name: Cat, dtype: float64"
      ]
     },
     "execution_count": 7,
     "metadata": {},
     "output_type": "execute_result"
    }
   ],
   "source": [
    "emails['Cat'].value_counts()/len(emails)"
   ]
  },
  {
   "cell_type": "code",
   "execution_count": 8,
   "id": "579ba432",
   "metadata": {},
   "outputs": [],
   "source": [
    "emails['Label'] = emails['Cat'].str.contains('spam').astype(int)"
   ]
  },
  {
   "cell_type": "code",
   "execution_count": 9,
   "id": "d189492f",
   "metadata": {},
   "outputs": [
    {
     "data": {
      "text/plain": [
       "0    6951\n",
       "1    2398\n",
       "Name: Label, dtype: int64"
      ]
     },
     "execution_count": 9,
     "metadata": {},
     "output_type": "execute_result"
    }
   ],
   "source": [
    "emails['Label'].value_counts()"
   ]
  },
  {
   "cell_type": "code",
   "execution_count": 10,
   "id": "2742534d",
   "metadata": {
    "scrolled": true
   },
   "outputs": [
    {
     "data": {
      "text/html": [
       "<div>\n",
       "<style scoped>\n",
       "    .dataframe tbody tr th:only-of-type {\n",
       "        vertical-align: middle;\n",
       "    }\n",
       "\n",
       "    .dataframe tbody tr th {\n",
       "        vertical-align: top;\n",
       "    }\n",
       "\n",
       "    .dataframe thead th {\n",
       "        text-align: right;\n",
       "    }\n",
       "</style>\n",
       "<table border=\"1\" class=\"dataframe\">\n",
       "  <thead>\n",
       "    <tr style=\"text-align: right;\">\n",
       "      <th></th>\n",
       "      <th>Content</th>\n",
       "      <th>Cat</th>\n",
       "      <th>Label</th>\n",
       "    </tr>\n",
       "  </thead>\n",
       "  <tbody>\n",
       "    <tr>\n",
       "      <th>0</th>\n",
       "      <td>From exmh-workers-admin@redhat.com  Thu Aug 22...</td>\n",
       "      <td>easy_ham</td>\n",
       "      <td>0</td>\n",
       "    </tr>\n",
       "    <tr>\n",
       "      <th>1</th>\n",
       "      <td>From Steve_Burt@cursor-system.com  Thu Aug 22 ...</td>\n",
       "      <td>easy_ham</td>\n",
       "      <td>0</td>\n",
       "    </tr>\n",
       "    <tr>\n",
       "      <th>2</th>\n",
       "      <td>From timc@2ubh.com  Thu Aug 22 13:52:59 2002\\n...</td>\n",
       "      <td>easy_ham</td>\n",
       "      <td>0</td>\n",
       "    </tr>\n",
       "    <tr>\n",
       "      <th>3</th>\n",
       "      <td>From irregulars-admin@tb.tf  Thu Aug 22 14:23:...</td>\n",
       "      <td>easy_ham</td>\n",
       "      <td>0</td>\n",
       "    </tr>\n",
       "    <tr>\n",
       "      <th>4</th>\n",
       "      <td>From Stewart.Smith@ee.ed.ac.uk  Thu Aug 22 14:...</td>\n",
       "      <td>easy_ham</td>\n",
       "      <td>0</td>\n",
       "    </tr>\n",
       "    <tr>\n",
       "      <th>...</th>\n",
       "      <td>...</td>\n",
       "      <td>...</td>\n",
       "      <td>...</td>\n",
       "    </tr>\n",
       "    <tr>\n",
       "      <th>9344</th>\n",
       "      <td>From Professional_Career_Development_Institute...</td>\n",
       "      <td>spam</td>\n",
       "      <td>1</td>\n",
       "    </tr>\n",
       "    <tr>\n",
       "      <th>9345</th>\n",
       "      <td>From tba@insiq.us  Wed Dec  4 11:46:34 2002\\nR...</td>\n",
       "      <td>spam</td>\n",
       "      <td>1</td>\n",
       "    </tr>\n",
       "    <tr>\n",
       "      <th>9346</th>\n",
       "      <td>Return-Path: &lt;raye@yahoo.lv&gt;\\nReceived: from u...</td>\n",
       "      <td>spam</td>\n",
       "      <td>1</td>\n",
       "    </tr>\n",
       "    <tr>\n",
       "      <th>9347</th>\n",
       "      <td>From cweqx@dialix.oz.au  Tue Aug  6 11:03:54 2...</td>\n",
       "      <td>spam</td>\n",
       "      <td>1</td>\n",
       "    </tr>\n",
       "    <tr>\n",
       "      <th>9348</th>\n",
       "      <td>From ilug-admin@linux.ie  Wed Dec  4 11:52:36 ...</td>\n",
       "      <td>spam</td>\n",
       "      <td>1</td>\n",
       "    </tr>\n",
       "  </tbody>\n",
       "</table>\n",
       "<p>9349 rows × 3 columns</p>\n",
       "</div>"
      ],
      "text/plain": [
       "                                                Content       Cat  Label\n",
       "0     From exmh-workers-admin@redhat.com  Thu Aug 22...  easy_ham      0\n",
       "1     From Steve_Burt@cursor-system.com  Thu Aug 22 ...  easy_ham      0\n",
       "2     From timc@2ubh.com  Thu Aug 22 13:52:59 2002\\n...  easy_ham      0\n",
       "3     From irregulars-admin@tb.tf  Thu Aug 22 14:23:...  easy_ham      0\n",
       "4     From Stewart.Smith@ee.ed.ac.uk  Thu Aug 22 14:...  easy_ham      0\n",
       "...                                                 ...       ...    ...\n",
       "9344  From Professional_Career_Development_Institute...      spam      1\n",
       "9345  From tba@insiq.us  Wed Dec  4 11:46:34 2002\\nR...      spam      1\n",
       "9346  Return-Path: <raye@yahoo.lv>\\nReceived: from u...      spam      1\n",
       "9347  From cweqx@dialix.oz.au  Tue Aug  6 11:03:54 2...      spam      1\n",
       "9348  From ilug-admin@linux.ie  Wed Dec  4 11:52:36 ...      spam      1\n",
       "\n",
       "[9349 rows x 3 columns]"
      ]
     },
     "execution_count": 10,
     "metadata": {},
     "output_type": "execute_result"
    }
   ],
   "source": [
    "emails"
   ]
  },
  {
   "cell_type": "code",
   "execution_count": 11,
   "id": "b72736ba",
   "metadata": {},
   "outputs": [],
   "source": [
    "from sklearn.model_selection import StratifiedShuffleSplit\n",
    "\n",
    "split = StratifiedShuffleSplit(n_splits=1, test_size=0.2, random_state=42)\n",
    "for train_index, test_index in split.split(emails, emails[\"Cat\"]):\n",
    "    strat_train_set = emails.loc[train_index]\n",
    "    strat_test_set = emails.loc[test_index]"
   ]
  },
  {
   "cell_type": "code",
   "execution_count": 12,
   "id": "5d9b20e9",
   "metadata": {},
   "outputs": [
    {
     "data": {
      "text/plain": [
       "easy_ham    0.690066\n",
       "spam        0.256451\n",
       "hard_ham    0.053483\n",
       "Name: Cat, dtype: float64"
      ]
     },
     "execution_count": 12,
     "metadata": {},
     "output_type": "execute_result"
    }
   ],
   "source": [
    "strat_train_set['Cat'].value_counts()/len(strat_train_set)"
   ]
  },
  {
   "cell_type": "code",
   "execution_count": 13,
   "id": "10b8b5e4",
   "metadata": {
    "scrolled": true
   },
   "outputs": [
    {
     "data": {
      "text/plain": [
       "easy_ham    0.689840\n",
       "spam        0.256684\n",
       "hard_ham    0.053476\n",
       "Name: Cat, dtype: float64"
      ]
     },
     "execution_count": 13,
     "metadata": {},
     "output_type": "execute_result"
    }
   ],
   "source": [
    "strat_test_set['Cat'].value_counts()/len(strat_test_set)"
   ]
  },
  {
   "cell_type": "code",
   "execution_count": 14,
   "id": "8ff247db",
   "metadata": {},
   "outputs": [],
   "source": [
    "X_train, y_train, X_test, y_test = strat_train_set.drop(columns=[\"Cat\", \"Label\"]), strat_train_set[\"Label\"].copy(), strat_test_set.drop(columns=[\"Cat\", \"Label\"]), strat_test_set[\"Label\"].copy()"
   ]
  },
  {
   "cell_type": "code",
   "execution_count": 15,
   "id": "33a1737e",
   "metadata": {},
   "outputs": [
    {
     "data": {
      "text/html": [
       "<div>\n",
       "<style scoped>\n",
       "    .dataframe tbody tr th:only-of-type {\n",
       "        vertical-align: middle;\n",
       "    }\n",
       "\n",
       "    .dataframe tbody tr th {\n",
       "        vertical-align: top;\n",
       "    }\n",
       "\n",
       "    .dataframe thead th {\n",
       "        text-align: right;\n",
       "    }\n",
       "</style>\n",
       "<table border=\"1\" class=\"dataframe\">\n",
       "  <thead>\n",
       "    <tr style=\"text-align: right;\">\n",
       "      <th></th>\n",
       "      <th>Content</th>\n",
       "      <th>Cat</th>\n",
       "      <th>Label</th>\n",
       "    </tr>\n",
       "  </thead>\n",
       "  <tbody>\n",
       "    <tr>\n",
       "      <th>0</th>\n",
       "      <td>From exmh-workers-admin@redhat.com  Thu Aug 22...</td>\n",
       "      <td>easy_ham</td>\n",
       "      <td>0</td>\n",
       "    </tr>\n",
       "    <tr>\n",
       "      <th>1</th>\n",
       "      <td>From Steve_Burt@cursor-system.com  Thu Aug 22 ...</td>\n",
       "      <td>easy_ham</td>\n",
       "      <td>0</td>\n",
       "    </tr>\n",
       "    <tr>\n",
       "      <th>2</th>\n",
       "      <td>From timc@2ubh.com  Thu Aug 22 13:52:59 2002\\n...</td>\n",
       "      <td>easy_ham</td>\n",
       "      <td>0</td>\n",
       "    </tr>\n",
       "    <tr>\n",
       "      <th>3</th>\n",
       "      <td>From irregulars-admin@tb.tf  Thu Aug 22 14:23:...</td>\n",
       "      <td>easy_ham</td>\n",
       "      <td>0</td>\n",
       "    </tr>\n",
       "    <tr>\n",
       "      <th>4</th>\n",
       "      <td>From Stewart.Smith@ee.ed.ac.uk  Thu Aug 22 14:...</td>\n",
       "      <td>easy_ham</td>\n",
       "      <td>0</td>\n",
       "    </tr>\n",
       "    <tr>\n",
       "      <th>...</th>\n",
       "      <td>...</td>\n",
       "      <td>...</td>\n",
       "      <td>...</td>\n",
       "    </tr>\n",
       "    <tr>\n",
       "      <th>9344</th>\n",
       "      <td>From Professional_Career_Development_Institute...</td>\n",
       "      <td>spam</td>\n",
       "      <td>1</td>\n",
       "    </tr>\n",
       "    <tr>\n",
       "      <th>9345</th>\n",
       "      <td>From tba@insiq.us  Wed Dec  4 11:46:34 2002\\nR...</td>\n",
       "      <td>spam</td>\n",
       "      <td>1</td>\n",
       "    </tr>\n",
       "    <tr>\n",
       "      <th>9346</th>\n",
       "      <td>Return-Path: &lt;raye@yahoo.lv&gt;\\nReceived: from u...</td>\n",
       "      <td>spam</td>\n",
       "      <td>1</td>\n",
       "    </tr>\n",
       "    <tr>\n",
       "      <th>9347</th>\n",
       "      <td>From cweqx@dialix.oz.au  Tue Aug  6 11:03:54 2...</td>\n",
       "      <td>spam</td>\n",
       "      <td>1</td>\n",
       "    </tr>\n",
       "    <tr>\n",
       "      <th>9348</th>\n",
       "      <td>From ilug-admin@linux.ie  Wed Dec  4 11:52:36 ...</td>\n",
       "      <td>spam</td>\n",
       "      <td>1</td>\n",
       "    </tr>\n",
       "  </tbody>\n",
       "</table>\n",
       "<p>9349 rows × 3 columns</p>\n",
       "</div>"
      ],
      "text/plain": [
       "                                                Content       Cat  Label\n",
       "0     From exmh-workers-admin@redhat.com  Thu Aug 22...  easy_ham      0\n",
       "1     From Steve_Burt@cursor-system.com  Thu Aug 22 ...  easy_ham      0\n",
       "2     From timc@2ubh.com  Thu Aug 22 13:52:59 2002\\n...  easy_ham      0\n",
       "3     From irregulars-admin@tb.tf  Thu Aug 22 14:23:...  easy_ham      0\n",
       "4     From Stewart.Smith@ee.ed.ac.uk  Thu Aug 22 14:...  easy_ham      0\n",
       "...                                                 ...       ...    ...\n",
       "9344  From Professional_Career_Development_Institute...      spam      1\n",
       "9345  From tba@insiq.us  Wed Dec  4 11:46:34 2002\\nR...      spam      1\n",
       "9346  Return-Path: <raye@yahoo.lv>\\nReceived: from u...      spam      1\n",
       "9347  From cweqx@dialix.oz.au  Tue Aug  6 11:03:54 2...      spam      1\n",
       "9348  From ilug-admin@linux.ie  Wed Dec  4 11:52:36 ...      spam      1\n",
       "\n",
       "[9349 rows x 3 columns]"
      ]
     },
     "execution_count": 15,
     "metadata": {},
     "output_type": "execute_result"
    }
   ],
   "source": [
    "emails"
   ]
  },
  {
   "cell_type": "code",
   "execution_count": 16,
   "id": "451d1687",
   "metadata": {
    "scrolled": true
   },
   "outputs": [],
   "source": [
    "from sklearn.base import BaseEstimator, TransformerMixin\n",
    "import email\n",
    "from email_reply_parser import EmailReplyParser\n",
    "\n",
    "# column index\n",
    "content_ix = 0\n",
    "\n",
    "class MyEmailParser(BaseEstimator, TransformerMixin):\n",
    "    def __init__(self, strip_headers=True, check_html=True): # no *args or **kargs\n",
    "        self.strip_headers = strip_headers\n",
    "        self.check_html = check_html\n",
    "    def fit(self, X, y=None):\n",
    "        return self  # nothing else to do\n",
    "    def transform(self, X):\n",
    "        X_og = X.copy()\n",
    "        \n",
    "        if self.strip_headers:\n",
    "            new_contents = []\n",
    "            for email_content in X_og[:, content_ix]:\n",
    "                new = ''\n",
    "                message = email.message_from_string(email_content)\n",
    "                if message.is_multipart():\n",
    "                    for payload in message.get_payload():\n",
    "                        if payload.get_content_type() == \"text/plain\":\n",
    "                            new += payload.get_payload()     \n",
    "                else:\n",
    "                    new = message.get_payload()\n",
    "                new_contents += [new]\n",
    "            X[:, content_ix] = np.array(new_contents)\n",
    "        \n",
    "        if self.check_html:\n",
    "            have_html = np.empty((X.shape[0], 1))\n",
    "            for email_content in X_og[:, content_ix]:\n",
    "                has_html = False\n",
    "                if message.is_multipart():\n",
    "                    for payload in message.get_payload():\n",
    "                        if payload.get_content_type() == \"text/html\":\n",
    "                            has_html = True\n",
    "                else:\n",
    "                    has_html = message.get_content_type() == \"text/html\"\n",
    "                np.append(have_html, has_html)\n",
    "                np.c_[X, have_html.astype(int)]\n",
    "            \n",
    "        return X\n",
    "\n",
    "email_parser = MyEmailParser()\n",
    "parsed_emails = email_parser.transform(emails[emails.Content.str.contains('text/html')].values[0:3, :])"
   ]
  },
  {
   "cell_type": "code",
   "execution_count": 18,
   "id": "50dbd241",
   "metadata": {},
   "outputs": [],
   "source": [
    "class MyTextParser(BaseEstimator, TransformerMixin):\n",
    "    def __init__(self, to_lower=True, url_subs=True, money_subs=True, number_subs=True, punctuation_subs=True):\n",
    "        self.to_lower = to_lower\n",
    "        self.url_subs = url_subs\n",
    "        self.money_subs = money_subs\n",
    "        self.number_subs = number_subs\n",
    "        self.punctuation_subs = punctuation_subs\n",
    "    def fit(self, X, y=None):\n",
    "        return self  # nothing else to do\n",
    "    def transform(self, X):\n",
    "        X_og = X.copy()\n",
    "            \n",
    "        if self.url_subs:\n",
    "            url_regex = r\"(?i)\\b((?:https?://|www\\d{0,3}[.]|[a-z0-9.\\-]+[.][a-z]{2,4}/)(?:[^\\s()<>]+|\\(([^\\s()<>]+|(\\([^\\s()<>]+\\)))*\\))+(?:\\(([^\\s()<>]+|(\\([^\\s()<>]+\\)))*\\)|[^\\s`!()\\[\\]{};:'\\\".,<>?«»“”‘’]))\"\n",
    "            X[:, content_ix] = np.array([re.sub(url_regex, \" url_marker \", text) for text in X[:, content_ix]])\n",
    "        \n",
    "        if self.money_subs:\n",
    "            currency_regex = f\"(USD)|(EUR)|(GBP)|[{''.join(chr(i) for i in range(0xffff) if unicodedata.category(chr(i)) == 'Sc')}]\"\n",
    "            X[:, content_ix] = np.array([re.sub(currency_regex, \" currency_marker \", text) for text in X[:, content_ix]])\n",
    "        \n",
    "        if self.number_subs:\n",
    "            number_regex = \"(\\d*\\.?\\d+|\\d{1,3}(?:,\\d{3})*(?:\\.\\d+)?)\" # \"(?:^|\\s)(\\d*\\.?\\d+|\\d{1,3}(?:,\\d{3})*(?:\\.\\d+)?)(?!\\S)\"\n",
    "            X[:, content_ix] = np.array([re.sub(number_regex, \" number_marker \", text) for text in X[:, content_ix]])\n",
    "        \n",
    "        if self.punctuation_subs:\n",
    "            X[:, content_ix] = np.array([\n",
    "                re.sub(\"\\?\", \" interrogation_marker \", re.sub(\"\\!\", \" exclamation_marker \", text)) \n",
    "                for text in X[:, content_ix]\n",
    "            ])\n",
    "            \n",
    "        if self.to_lower:\n",
    "            X[:, content_ix] = np.array([text.lower() for text in X[:, content_ix]])\n",
    "            \n",
    "        return X\n",
    "    \n",
    "text_parser = MyTextParser()\n",
    "text_parsed_emails = text_parser.transform(parsed_emails)"
   ]
  },
  {
   "cell_type": "code",
   "execution_count": 19,
   "id": "759fb89d",
   "metadata": {},
   "outputs": [],
   "source": [
    "from sklearn.feature_extraction.text import CountVectorizer\n",
    "from nltk.stem import PorterStemmer\n",
    "\n",
    "stemmer = PorterStemmer()\n",
    "analyzer = CountVectorizer().build_analyzer()\n",
    "def stemmed_words(doc):\n",
    "    return (stemmer.stem(w) for w in analyzer(doc[0]))\n",
    "\n",
    "vectorizer = CountVectorizer(stop_words='english', analyzer=stemmed_words, max_features=50000)\n"
   ]
  },
  {
   "cell_type": "code",
   "execution_count": 21,
   "id": "a680a3cb",
   "metadata": {},
   "outputs": [],
   "source": [
    "from sklearn.pipeline import Pipeline\n",
    "from sklearn.compose import ColumnTransformer\n",
    "\n",
    "full_pipeline = Pipeline([\n",
    "        ('email', MyEmailParser()),\n",
    "        ('text', MyTextParser()),\n",
    "        ('vectorize', vectorizer)\n",
    "    ])\n",
    "\n",
    "X_train_prepared = full_pipeline.fit_transform(X_train.values) #[:1000, :])"
   ]
  },
  {
   "cell_type": "code",
   "execution_count": 23,
   "id": "28510c3a",
   "metadata": {},
   "outputs": [
    {
     "data": {
      "text/plain": [
       "0.9985292151357134"
      ]
     },
     "execution_count": 23,
     "metadata": {},
     "output_type": "execute_result"
    }
   ],
   "source": [
    "from sklearn.linear_model import LogisticRegression\n",
    "\n",
    "log_reg = LogisticRegression(max_iter=1000)\n",
    "log_reg.fit(X_train_prepared, y_train)\n",
    "log_reg.score(X_train_prepared, y_train)"
   ]
  },
  {
   "cell_type": "code",
   "execution_count": 24,
   "id": "aec20121",
   "metadata": {},
   "outputs": [],
   "source": [
    "from sklearn.model_selection import cross_val_score\n",
    "scores = cross_val_score(log_reg, X_train_prepared, y_train,\n",
    "                         scoring=\"accuracy\", cv=5)"
   ]
  },
  {
   "cell_type": "code",
   "execution_count": 25,
   "id": "f6be6f84",
   "metadata": {},
   "outputs": [],
   "source": [
    "X_test_prepared = full_pipeline.transform(X_test.values) #[:1000, :])"
   ]
  },
  {
   "cell_type": "code",
   "execution_count": 26,
   "id": "de30f24b",
   "metadata": {},
   "outputs": [
    {
     "data": {
      "text/plain": [
       "0.9855614973262032"
      ]
     },
     "execution_count": 26,
     "metadata": {},
     "output_type": "execute_result"
    }
   ],
   "source": [
    "log_reg.score(X_test_prepared, y_test)"
   ]
  },
  {
   "cell_type": "code",
   "execution_count": 37,
   "id": "47e3097f",
   "metadata": {},
   "outputs": [],
   "source": [
    "from sklearn.model_selection import cross_val_predict\n",
    "\n",
    "y_test_pred = log_reg.predict(X_test_prepared)"
   ]
  },
  {
   "cell_type": "code",
   "execution_count": 27,
   "id": "129eab19",
   "metadata": {},
   "outputs": [],
   "source": [
    "from sklearn.metrics import precision_score, recall_score\n",
    "from sklearn.metrics import f1_score"
   ]
  },
  {
   "cell_type": "code",
   "execution_count": 38,
   "id": "9ad53898",
   "metadata": {},
   "outputs": [
    {
     "data": {
      "text/plain": [
       "0.968944099378882"
      ]
     },
     "execution_count": 38,
     "metadata": {},
     "output_type": "execute_result"
    }
   ],
   "source": [
    "precision_score(y_test, y_test_pred)"
   ]
  },
  {
   "cell_type": "code",
   "execution_count": 39,
   "id": "36927d33",
   "metadata": {},
   "outputs": [
    {
     "data": {
      "text/plain": [
       "0.975"
      ]
     },
     "execution_count": 39,
     "metadata": {},
     "output_type": "execute_result"
    }
   ],
   "source": [
    "recall_score(y_test, y_test_pred)"
   ]
  },
  {
   "cell_type": "code",
   "execution_count": 40,
   "id": "754d14f3",
   "metadata": {},
   "outputs": [
    {
     "data": {
      "text/plain": [
       "0.9719626168224299"
      ]
     },
     "execution_count": 40,
     "metadata": {},
     "output_type": "execute_result"
    }
   ],
   "source": [
    "f1_score(y_test, y_test_pred)"
   ]
  },
  {
   "cell_type": "code",
   "execution_count": 65,
   "id": "6d69e428",
   "metadata": {},
   "outputs": [
    {
     "data": {
      "text/plain": [
       "0    1387\n",
       "1     483\n",
       "Name: Label, dtype: int64"
      ]
     },
     "execution_count": 65,
     "metadata": {},
     "output_type": "execute_result"
    }
   ],
   "source": [
    "pd.DataFrame({\"Label\":y_test_pred}).Label.value_counts()"
   ]
  },
  {
   "cell_type": "code",
   "execution_count": 41,
   "id": "0801f3db",
   "metadata": {
    "scrolled": true
   },
   "outputs": [
    {
     "data": {
      "text/html": [
       "<div>\n",
       "<style scoped>\n",
       "    .dataframe tbody tr th:only-of-type {\n",
       "        vertical-align: middle;\n",
       "    }\n",
       "\n",
       "    .dataframe tbody tr th {\n",
       "        vertical-align: top;\n",
       "    }\n",
       "\n",
       "    .dataframe thead th {\n",
       "        text-align: right;\n",
       "    }\n",
       "</style>\n",
       "<table border=\"1\" class=\"dataframe\">\n",
       "  <thead>\n",
       "    <tr style=\"text-align: right;\">\n",
       "      <th></th>\n",
       "      <th>Content</th>\n",
       "    </tr>\n",
       "  </thead>\n",
       "  <tbody>\n",
       "    <tr>\n",
       "      <th>4592</th>\n",
       "      <td>url:  url_marker \\ndate: not supplied\\n\\ntechn...</td>\n",
       "    </tr>\n",
       "    <tr>\n",
       "      <th>9057</th>\n",
       "      <td>&lt;hr&gt;\\n&lt;html&gt;\\n&lt;div bgcolor= number_marker d\"#f...</td>\n",
       "    </tr>\n",
       "    <tr>\n",
       "      <th>6203</th>\n",
       "      <td>once upon a time, brian wrote :\\n\\n&gt;     i was...</td>\n",
       "    </tr>\n",
       "    <tr>\n",
       "      <th>1625</th>\n",
       "      <td>i'm getting these messages and i'm not sure wh...</td>\n",
       "    </tr>\n",
       "    <tr>\n",
       "      <th>7775</th>\n",
       "      <td>&lt;html&gt;&lt;head&gt;&lt;title&gt;::free mortgage quote::&lt;/ti...</td>\n",
       "    </tr>\n",
       "    <tr>\n",
       "      <th>...</th>\n",
       "      <td>...</td>\n",
       "    </tr>\n",
       "    <tr>\n",
       "      <th>9129</th>\n",
       "      <td>do you want to make money from home interrogat...</td>\n",
       "    </tr>\n",
       "    <tr>\n",
       "      <th>2243</th>\n",
       "      <td>url:  url_marker \\ndate:  number_marker - numb...</td>\n",
       "    </tr>\n",
       "    <tr>\n",
       "      <th>854</th>\n",
       "      <td>russell turpin wrote:\\n&gt;invite her for an afte...</td>\n",
       "    </tr>\n",
       "    <tr>\n",
       "      <th>6578</th>\n",
       "      <td>&lt;html&gt;\\n&lt;head&gt;\\n        &lt;title&gt;selling secure ...</td>\n",
       "    </tr>\n",
       "    <tr>\n",
       "      <th>6799</th>\n",
       "      <td>&lt;html&gt;&lt;head&gt;&lt; exclamation_marker --\\n\\n      c...</td>\n",
       "    </tr>\n",
       "  </tbody>\n",
       "</table>\n",
       "<p>1870 rows × 1 columns</p>\n",
       "</div>"
      ],
      "text/plain": [
       "                                                Content\n",
       "4592  url:  url_marker \\ndate: not supplied\\n\\ntechn...\n",
       "9057  <hr>\\n<html>\\n<div bgcolor= number_marker d\"#f...\n",
       "6203  once upon a time, brian wrote :\\n\\n>     i was...\n",
       "1625  i'm getting these messages and i'm not sure wh...\n",
       "7775  <html><head><title>::free mortgage quote::</ti...\n",
       "...                                                 ...\n",
       "9129  do you want to make money from home interrogat...\n",
       "2243  url:  url_marker \\ndate:  number_marker - numb...\n",
       "854   russell turpin wrote:\\n>invite her for an afte...\n",
       "6578  <html>\\n<head>\\n        <title>selling secure ...\n",
       "6799  <html><head>< exclamation_marker --\\n\\n      c...\n",
       "\n",
       "[1870 rows x 1 columns]"
      ]
     },
     "execution_count": 41,
     "metadata": {},
     "output_type": "execute_result"
    }
   ],
   "source": [
    "X_test"
   ]
  },
  {
   "cell_type": "markdown",
   "id": "d67f12c5",
   "metadata": {},
   "source": [
    "# Considerações\n",
    "\n",
    "contar a ocorrencia de cada palavra (binario ou frequencia?)\n",
    "\n",
    "selecionar mais frequentes\n",
    "\n",
    "tirar stopwords\n",
    "\n",
    "pontuação provavelmente contar (!, ?)\n",
    "\n",
    "tirar header do email (separar texto na primeira quebra de linha dupla (acho)) ou nao tirar?? pode avaliar assunto e quem enviou\n",
    "\n",
    "substituir urls por URL, numeros por NUMBER, $ por MONEY talvez\n",
    "\n",
    "stemming\n",
    "\n",
    "tratar html </>\n",
    "\n",
    "replies? \\t |\n",
    "\n",
    "caracteres estranhos ?? chines etc"
   ]
  }
 ],
 "metadata": {
  "kernelspec": {
   "display_name": "Python 3 (ipykernel)",
   "language": "python",
   "name": "python3"
  },
  "language_info": {
   "codemirror_mode": {
    "name": "ipython",
    "version": 3
   },
   "file_extension": ".py",
   "mimetype": "text/x-python",
   "name": "python",
   "nbconvert_exporter": "python",
   "pygments_lexer": "ipython3",
   "version": "3.8.9"
  },
  "varInspector": {
   "cols": {
    "lenName": 16,
    "lenType": 16,
    "lenVar": 40
   },
   "kernels_config": {
    "python": {
     "delete_cmd_postfix": "",
     "delete_cmd_prefix": "del ",
     "library": "var_list.py",
     "varRefreshCmd": "print(var_dic_list())"
    },
    "r": {
     "delete_cmd_postfix": ") ",
     "delete_cmd_prefix": "rm(",
     "library": "var_list.r",
     "varRefreshCmd": "cat(var_dic_list()) "
    }
   },
   "types_to_exclude": [
    "module",
    "function",
    "builtin_function_or_method",
    "instance",
    "_Feature"
   ],
   "window_display": false
  }
 },
 "nbformat": 4,
 "nbformat_minor": 5
}
