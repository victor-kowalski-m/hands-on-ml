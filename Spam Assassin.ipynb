{
 "cells": [
  {
   "cell_type": "code",
   "execution_count": 17,
   "id": "3b2ca1de",
   "metadata": {},
   "outputs": [],
   "source": [
    "import os\n",
    "import tarfile\n",
    "import urllib\n",
    "import re\n",
    "import bz2\n",
    "import pandas as pd\n",
    "import numpy as np"
   ]
  },
  {
   "cell_type": "code",
   "execution_count": 2,
   "id": "c78d33e3",
   "metadata": {},
   "outputs": [],
   "source": [
    "DOWNLOAD_ROOT = \"https://spamassassin.apache.org\"\n",
    "SPAM_PATH = os.path.join(\"datasets\", \"spam\")\n",
    "SPAM_URL = DOWNLOAD_ROOT + \"/old/publiccorpus/\"\n",
    "\n",
    "def fetch_spam_data(spam_url=SPAM_URL, spam_path=SPAM_PATH):\n",
    "    os.makedirs(spam_path, exist_ok=True)\n",
    "    urlpath = urllib.request.urlopen('https://spamassassin.apache.org/old/publiccorpus/')\n",
    "    string = urlpath.read().decode('utf-8')\n",
    "    pattern = re.compile('href=\".*\\.bz2\"')\n",
    "    filelist = [f[6:-1] for f in pattern.findall(string)]\n",
    "    for f in filelist:\n",
    "        bz2path = os.path.join(spam_path, f)\n",
    "        urllib.request.urlretrieve(spam_url+f, bz2path)\n",
    "        with bz2.BZ2File(bz2path) as bz2_file:\n",
    "            data = bz2_file.read()\n",
    "        tarpath = bz2path[:-4]\n",
    "        open(tarpath, 'wb').write(data)\n",
    "        with tarfile.open(tarpath) as tar_file:\n",
    "            tar_file.extractall(path=spam_path)\n",
    "        os.remove(bz2path)\n",
    "        os.remove(tarpath)"
   ]
  },
  {
   "cell_type": "code",
   "execution_count": 3,
   "id": "3616772b",
   "metadata": {},
   "outputs": [],
   "source": [
    "# fetch_spam_data()"
   ]
  },
  {
   "cell_type": "code",
   "execution_count": 4,
   "id": "882e30fb",
   "metadata": {
    "scrolled": true
   },
   "outputs": [],
   "source": [
    "contents = []\n",
    "cats = []\n",
    "\n",
    "for cat in os.listdir(SPAM_PATH):\n",
    "    cat_path = os.path.join(SPAM_PATH, cat)\n",
    "    cat_files = os.listdir(cat_path)\n",
    "    cat_contents = [open(os.path.join(cat_path, f), encoding='ansi').read() for f in cat_files if f != \"cmds\"]\n",
    "    contents += cat_contents\n",
    "    cats += [cat] * len(cat_contents)\n",
    "    \n",
    "emails = pd.DataFrame(data={'Content': contents, 'Cat': cats})"
   ]
  },
  {
   "cell_type": "code",
   "execution_count": 5,
   "id": "bfe0db23",
   "metadata": {},
   "outputs": [
    {
     "name": "stdout",
     "output_type": "stream",
     "text": [
      "<class 'pandas.core.frame.DataFrame'>\n",
      "RangeIndex: 9349 entries, 0 to 9348\n",
      "Data columns (total 2 columns):\n",
      " #   Column   Non-Null Count  Dtype \n",
      "---  ------   --------------  ----- \n",
      " 0   Content  9349 non-null   object\n",
      " 1   Cat      9349 non-null   object\n",
      "dtypes: object(2)\n",
      "memory usage: 146.2+ KB\n"
     ]
    }
   ],
   "source": [
    "emails.info()"
   ]
  },
  {
   "cell_type": "code",
   "execution_count": 6,
   "id": "be6f75d9",
   "metadata": {
    "scrolled": true
   },
   "outputs": [
    {
     "data": {
      "text/plain": [
       "easy_ham      5051\n",
       "easy_ham_2    1400\n",
       "spam_2        1397\n",
       "spam          1001\n",
       "hard_ham       500\n",
       "Name: Cat, dtype: int64"
      ]
     },
     "execution_count": 6,
     "metadata": {},
     "output_type": "execute_result"
    }
   ],
   "source": [
    "emails['Cat'].value_counts()"
   ]
  },
  {
   "cell_type": "code",
   "execution_count": 7,
   "id": "06d9e8a2",
   "metadata": {},
   "outputs": [],
   "source": [
    "emails[\"Cat\"] = emails.apply(lambda row: row[\"Cat\"][:-2] if (row[\"Cat\"][-2] == '_' and row[\"Cat\"][-1].isdigit()) else row[\"Cat\"], axis=1)"
   ]
  },
  {
   "cell_type": "code",
   "execution_count": 8,
   "id": "1a145969",
   "metadata": {
    "scrolled": false
   },
   "outputs": [
    {
     "data": {
      "text/plain": [
       "easy_ham    0.690020\n",
       "spam        0.256498\n",
       "hard_ham    0.053482\n",
       "Name: Cat, dtype: float64"
      ]
     },
     "execution_count": 8,
     "metadata": {},
     "output_type": "execute_result"
    }
   ],
   "source": [
    "emails['Cat'].value_counts()/len(emails)"
   ]
  },
  {
   "cell_type": "code",
   "execution_count": 9,
   "id": "579ba432",
   "metadata": {},
   "outputs": [],
   "source": [
    "emails['Label'] = emails['Cat'].str.contains('spam').astype(int)"
   ]
  },
  {
   "cell_type": "code",
   "execution_count": 10,
   "id": "2742534d",
   "metadata": {
    "scrolled": true
   },
   "outputs": [
    {
     "data": {
      "text/html": [
       "<div>\n",
       "<style scoped>\n",
       "    .dataframe tbody tr th:only-of-type {\n",
       "        vertical-align: middle;\n",
       "    }\n",
       "\n",
       "    .dataframe tbody tr th {\n",
       "        vertical-align: top;\n",
       "    }\n",
       "\n",
       "    .dataframe thead th {\n",
       "        text-align: right;\n",
       "    }\n",
       "</style>\n",
       "<table border=\"1\" class=\"dataframe\">\n",
       "  <thead>\n",
       "    <tr style=\"text-align: right;\">\n",
       "      <th></th>\n",
       "      <th>Content</th>\n",
       "      <th>Cat</th>\n",
       "      <th>Label</th>\n",
       "    </tr>\n",
       "  </thead>\n",
       "  <tbody>\n",
       "    <tr>\n",
       "      <th>0</th>\n",
       "      <td>From exmh-workers-admin@redhat.com  Thu Aug 22...</td>\n",
       "      <td>easy_ham</td>\n",
       "      <td>0</td>\n",
       "    </tr>\n",
       "    <tr>\n",
       "      <th>1</th>\n",
       "      <td>From Steve_Burt@cursor-system.com  Thu Aug 22 ...</td>\n",
       "      <td>easy_ham</td>\n",
       "      <td>0</td>\n",
       "    </tr>\n",
       "    <tr>\n",
       "      <th>2</th>\n",
       "      <td>From timc@2ubh.com  Thu Aug 22 13:52:59 2002\\n...</td>\n",
       "      <td>easy_ham</td>\n",
       "      <td>0</td>\n",
       "    </tr>\n",
       "    <tr>\n",
       "      <th>3</th>\n",
       "      <td>From irregulars-admin@tb.tf  Thu Aug 22 14:23:...</td>\n",
       "      <td>easy_ham</td>\n",
       "      <td>0</td>\n",
       "    </tr>\n",
       "    <tr>\n",
       "      <th>4</th>\n",
       "      <td>From Stewart.Smith@ee.ed.ac.uk  Thu Aug 22 14:...</td>\n",
       "      <td>easy_ham</td>\n",
       "      <td>0</td>\n",
       "    </tr>\n",
       "    <tr>\n",
       "      <th>...</th>\n",
       "      <td>...</td>\n",
       "      <td>...</td>\n",
       "      <td>...</td>\n",
       "    </tr>\n",
       "    <tr>\n",
       "      <th>9344</th>\n",
       "      <td>From Professional_Career_Development_Institute...</td>\n",
       "      <td>spam</td>\n",
       "      <td>1</td>\n",
       "    </tr>\n",
       "    <tr>\n",
       "      <th>9345</th>\n",
       "      <td>From tba@insiq.us  Wed Dec  4 11:46:34 2002\\nR...</td>\n",
       "      <td>spam</td>\n",
       "      <td>1</td>\n",
       "    </tr>\n",
       "    <tr>\n",
       "      <th>9346</th>\n",
       "      <td>Return-Path: &lt;raye@yahoo.lv&gt;\\nReceived: from u...</td>\n",
       "      <td>spam</td>\n",
       "      <td>1</td>\n",
       "    </tr>\n",
       "    <tr>\n",
       "      <th>9347</th>\n",
       "      <td>From cweqx@dialix.oz.au  Tue Aug  6 11:03:54 2...</td>\n",
       "      <td>spam</td>\n",
       "      <td>1</td>\n",
       "    </tr>\n",
       "    <tr>\n",
       "      <th>9348</th>\n",
       "      <td>From ilug-admin@linux.ie  Wed Dec  4 11:52:36 ...</td>\n",
       "      <td>spam</td>\n",
       "      <td>1</td>\n",
       "    </tr>\n",
       "  </tbody>\n",
       "</table>\n",
       "<p>9349 rows × 3 columns</p>\n",
       "</div>"
      ],
      "text/plain": [
       "                                                Content       Cat  Label\n",
       "0     From exmh-workers-admin@redhat.com  Thu Aug 22...  easy_ham      0\n",
       "1     From Steve_Burt@cursor-system.com  Thu Aug 22 ...  easy_ham      0\n",
       "2     From timc@2ubh.com  Thu Aug 22 13:52:59 2002\\n...  easy_ham      0\n",
       "3     From irregulars-admin@tb.tf  Thu Aug 22 14:23:...  easy_ham      0\n",
       "4     From Stewart.Smith@ee.ed.ac.uk  Thu Aug 22 14:...  easy_ham      0\n",
       "...                                                 ...       ...    ...\n",
       "9344  From Professional_Career_Development_Institute...      spam      1\n",
       "9345  From tba@insiq.us  Wed Dec  4 11:46:34 2002\\nR...      spam      1\n",
       "9346  Return-Path: <raye@yahoo.lv>\\nReceived: from u...      spam      1\n",
       "9347  From cweqx@dialix.oz.au  Tue Aug  6 11:03:54 2...      spam      1\n",
       "9348  From ilug-admin@linux.ie  Wed Dec  4 11:52:36 ...      spam      1\n",
       "\n",
       "[9349 rows x 3 columns]"
      ]
     },
     "execution_count": 10,
     "metadata": {},
     "output_type": "execute_result"
    }
   ],
   "source": [
    "emails"
   ]
  },
  {
   "cell_type": "code",
   "execution_count": 11,
   "id": "b72736ba",
   "metadata": {},
   "outputs": [],
   "source": [
    "from sklearn.model_selection import StratifiedShuffleSplit\n",
    "\n",
    "split = StratifiedShuffleSplit(n_splits=1, test_size=0.2, random_state=42)\n",
    "for train_index, test_index in split.split(emails, emails[\"Cat\"]):\n",
    "    strat_train_set = emails.loc[train_index]\n",
    "    strat_test_set = emails.loc[test_index]"
   ]
  },
  {
   "cell_type": "code",
   "execution_count": 12,
   "id": "5d9b20e9",
   "metadata": {},
   "outputs": [
    {
     "data": {
      "text/plain": [
       "easy_ham    0.690066\n",
       "spam        0.256451\n",
       "hard_ham    0.053483\n",
       "Name: Cat, dtype: float64"
      ]
     },
     "execution_count": 12,
     "metadata": {},
     "output_type": "execute_result"
    }
   ],
   "source": [
    "strat_train_set['Cat'].value_counts()/len(strat_train_set)"
   ]
  },
  {
   "cell_type": "code",
   "execution_count": 13,
   "id": "10b8b5e4",
   "metadata": {},
   "outputs": [
    {
     "data": {
      "text/plain": [
       "easy_ham    0.689840\n",
       "spam        0.256684\n",
       "hard_ham    0.053476\n",
       "Name: Cat, dtype: float64"
      ]
     },
     "execution_count": 13,
     "metadata": {},
     "output_type": "execute_result"
    }
   ],
   "source": [
    "strat_test_set['Cat'].value_counts()/len(strat_test_set)"
   ]
  },
  {
   "cell_type": "code",
   "execution_count": 29,
   "id": "33a1737e",
   "metadata": {},
   "outputs": [
    {
     "data": {
      "text/html": [
       "<div>\n",
       "<style scoped>\n",
       "    .dataframe tbody tr th:only-of-type {\n",
       "        vertical-align: middle;\n",
       "    }\n",
       "\n",
       "    .dataframe tbody tr th {\n",
       "        vertical-align: top;\n",
       "    }\n",
       "\n",
       "    .dataframe thead th {\n",
       "        text-align: right;\n",
       "    }\n",
       "</style>\n",
       "<table border=\"1\" class=\"dataframe\">\n",
       "  <thead>\n",
       "    <tr style=\"text-align: right;\">\n",
       "      <th></th>\n",
       "      <th>Content</th>\n",
       "      <th>Cat</th>\n",
       "      <th>Label</th>\n",
       "    </tr>\n",
       "  </thead>\n",
       "  <tbody>\n",
       "    <tr>\n",
       "      <th>0</th>\n",
       "      <td>From exmh-workers-admin@redhat.com  Thu Aug 22...</td>\n",
       "      <td>easy_ham</td>\n",
       "      <td>0</td>\n",
       "    </tr>\n",
       "    <tr>\n",
       "      <th>1</th>\n",
       "      <td>From Steve_Burt@cursor-system.com  Thu Aug 22 ...</td>\n",
       "      <td>easy_ham</td>\n",
       "      <td>0</td>\n",
       "    </tr>\n",
       "    <tr>\n",
       "      <th>2</th>\n",
       "      <td>From timc@2ubh.com  Thu Aug 22 13:52:59 2002\\n...</td>\n",
       "      <td>easy_ham</td>\n",
       "      <td>0</td>\n",
       "    </tr>\n",
       "    <tr>\n",
       "      <th>3</th>\n",
       "      <td>From irregulars-admin@tb.tf  Thu Aug 22 14:23:...</td>\n",
       "      <td>easy_ham</td>\n",
       "      <td>0</td>\n",
       "    </tr>\n",
       "    <tr>\n",
       "      <th>4</th>\n",
       "      <td>From Stewart.Smith@ee.ed.ac.uk  Thu Aug 22 14:...</td>\n",
       "      <td>easy_ham</td>\n",
       "      <td>0</td>\n",
       "    </tr>\n",
       "    <tr>\n",
       "      <th>...</th>\n",
       "      <td>...</td>\n",
       "      <td>...</td>\n",
       "      <td>...</td>\n",
       "    </tr>\n",
       "    <tr>\n",
       "      <th>9344</th>\n",
       "      <td>From Professional_Career_Development_Institute...</td>\n",
       "      <td>spam</td>\n",
       "      <td>1</td>\n",
       "    </tr>\n",
       "    <tr>\n",
       "      <th>9345</th>\n",
       "      <td>From tba@insiq.us  Wed Dec  4 11:46:34 2002\\nR...</td>\n",
       "      <td>spam</td>\n",
       "      <td>1</td>\n",
       "    </tr>\n",
       "    <tr>\n",
       "      <th>9346</th>\n",
       "      <td>Return-Path: &lt;raye@yahoo.lv&gt;\\nReceived: from u...</td>\n",
       "      <td>spam</td>\n",
       "      <td>1</td>\n",
       "    </tr>\n",
       "    <tr>\n",
       "      <th>9347</th>\n",
       "      <td>From cweqx@dialix.oz.au  Tue Aug  6 11:03:54 2...</td>\n",
       "      <td>spam</td>\n",
       "      <td>1</td>\n",
       "    </tr>\n",
       "    <tr>\n",
       "      <th>9348</th>\n",
       "      <td>From ilug-admin@linux.ie  Wed Dec  4 11:52:36 ...</td>\n",
       "      <td>spam</td>\n",
       "      <td>1</td>\n",
       "    </tr>\n",
       "  </tbody>\n",
       "</table>\n",
       "<p>9349 rows × 3 columns</p>\n",
       "</div>"
      ],
      "text/plain": [
       "                                                Content       Cat  Label\n",
       "0     From exmh-workers-admin@redhat.com  Thu Aug 22...  easy_ham      0\n",
       "1     From Steve_Burt@cursor-system.com  Thu Aug 22 ...  easy_ham      0\n",
       "2     From timc@2ubh.com  Thu Aug 22 13:52:59 2002\\n...  easy_ham      0\n",
       "3     From irregulars-admin@tb.tf  Thu Aug 22 14:23:...  easy_ham      0\n",
       "4     From Stewart.Smith@ee.ed.ac.uk  Thu Aug 22 14:...  easy_ham      0\n",
       "...                                                 ...       ...    ...\n",
       "9344  From Professional_Career_Development_Institute...      spam      1\n",
       "9345  From tba@insiq.us  Wed Dec  4 11:46:34 2002\\nR...      spam      1\n",
       "9346  Return-Path: <raye@yahoo.lv>\\nReceived: from u...      spam      1\n",
       "9347  From cweqx@dialix.oz.au  Tue Aug  6 11:03:54 2...      spam      1\n",
       "9348  From ilug-admin@linux.ie  Wed Dec  4 11:52:36 ...      spam      1\n",
       "\n",
       "[9349 rows x 3 columns]"
      ]
     },
     "execution_count": 29,
     "metadata": {},
     "output_type": "execute_result"
    }
   ],
   "source": [
    "emails"
   ]
  },
  {
   "cell_type": "code",
   "execution_count": 43,
   "id": "451d1687",
   "metadata": {
    "scrolled": true
   },
   "outputs": [],
   "source": [
    "from sklearn.base import BaseEstimator, TransformerMixin\n",
    "import email\n",
    "from email_reply_parser import EmailReplyParser\n",
    "\n",
    "# column index\n",
    "content_ix = 0\n",
    "\n",
    "class MyEmailParser(BaseEstimator, TransformerMixin):\n",
    "    def __init__(self, strip_headers=True, check_html=True): # no *args or **kargs\n",
    "        self.strip_headers = strip_headers\n",
    "        self.check_html = check_html\n",
    "    def fit(self, X, y=None):\n",
    "        return self  # nothing else to do\n",
    "    def transform(self, X):\n",
    "        X_og = X.copy()\n",
    "        \n",
    "        if self.strip_headers:\n",
    "            new_contents = []\n",
    "            for email_content in X_og[:, content_ix]:\n",
    "                new = ''\n",
    "                message = email.message_from_string(email_content)\n",
    "                if message.is_multipart():\n",
    "                    for payload in message.get_payload():\n",
    "                        if payload.get_content_type() == \"text/plain\":\n",
    "                            new += payload.get_payload()     \n",
    "                else:\n",
    "                    new = message.get_payload()\n",
    "                new_contents += [new]\n",
    "            X[:, content_ix] = np.array(new_contents)\n",
    "        \n",
    "        if self.check_html:\n",
    "            have_html = np.empty((X.shape[0], 1))\n",
    "            for email_content in X_og[:, content_ix]:\n",
    "                has_html = False\n",
    "                if message.is_multipart():\n",
    "                    for payload in message.get_payload():\n",
    "                        if payload.get_content_type() == \"text/html\":\n",
    "                            has_html = True\n",
    "                else:\n",
    "                    has_html = message.get_content_type() == \"text/html\"\n",
    "                np.append(have_html, has_html)\n",
    "                np.c_[X, have_html.astype(int)]\n",
    "            \n",
    "        return X\n",
    "\n",
    "email_parser = MyEmailParser()\n",
    "parsed_emails = email_parser.transform(emails[emails.Content.str.contains('text/html')].values[0:3, :])"
   ]
  },
  {
   "cell_type": "code",
   "execution_count": 26,
   "id": "3fdb75f5",
   "metadata": {},
   "outputs": [
    {
     "name": "stdout",
     "output_type": "stream",
     "text": [
      "True\n",
      "False\n",
      "True\n",
      "False\n"
     ]
    }
   ],
   "source": [
    "new_contents = []\n",
    "for email_content in emails[emails.Content.str.contains('text/html')].values[0:3, 0]:\n",
    "    new = ''\n",
    "    message = email.message_from_string(email_content)\n",
    "    if message.is_multipart():\n",
    "        for payload in message.get_payload():\n",
    "            print(payload.get_content_type() == \"text/plain\")\n",
    "            new += payload.get_payload()\n",
    "    else:\n",
    "        new = message.get_payload()\n",
    "    new_contents += [new]\n",
    "stripado = np.array(new_contents)"
   ]
  },
  {
   "cell_type": "code",
   "execution_count": 45,
   "id": "536ebb32",
   "metadata": {},
   "outputs": [],
   "source": [
    "# print(stripado[0])"
   ]
  },
  {
   "cell_type": "code",
   "execution_count": 46,
   "id": "b1d30ad3",
   "metadata": {},
   "outputs": [],
   "source": [
    "# print(emails[emails.Content.str.contains('text/html')].values[0, 0])"
   ]
  },
  {
   "cell_type": "markdown",
   "id": "a9fba0a9",
   "metadata": {},
   "source": [
    "URL Parser -> detecta http e https URL_TAG -> ver beautifulsoup\n",
    "\n",
    "HTML -> tira todas as tags\n",
    "\n",
    "$, euro, libra, yens etc pra MONEY_TAG\n",
    "\n",
    "numeros para NUMBER_TAG\n",
    "\n",
    "tokenizar\n",
    "\n",
    "stemming\n",
    "\n",
    "tirar stopwords\n",
    "\n",
    "selecionar só as palavras mais frequentes\n",
    "\n",
    "checar caracteres estranho em geral, tipo chines"
   ]
  },
  {
   "cell_type": "code",
   "execution_count": null,
   "id": "50dbd241",
   "metadata": {},
   "outputs": [],
   "source": [
    "class MyTextParser(BaseEstimator, TransformerMixin):\n",
    "    def __init__(self, to_lower=True, url_subs=True, money_subs=True, number_subs=True):\n",
    "        self.to_lower = to_lower\n",
    "        self.url_subs = url_subs\n",
    "        self.money_subs = money_subs\n",
    "        self.number_subs = number_subs\n",
    "    def fit(self, X, y=None):\n",
    "        return self  # nothing else to do\n",
    "    def transform(self, X):\n",
    "        X_og = X.copy()\n",
    "        \n",
    "        if to_lower:\n",
    "            X[:, content_ix] = np.array([text.lower() for text in X[:, content_ix]])\n",
    "            \n",
    "        if url_subs:\n",
    "            url_regex = r\"(?i)\\b((?:https?://|www\\d{0,3}[.]|[a-z0-9.\\-]+[.][a-z]{2,4}/)(?:[^\\s()<>]+|\\(([^\\s()<>]+|(\\([^\\s()<>]+\\)))*\\))+(?:\\(([^\\s()<>]+|(\\([^\\s()<>]+\\)))*\\)|[^\\s`!()\\[\\]{};:'\\\".,<>?«»“”‘’]))\"\n",
    "            X[:, content_ix] = np.array([re.sub(url_regex, \" url_marker \", text) for text in X[:, content_ix]])\n",
    "        \n",
    "        if money_subs:\n",
    "            currency_regex = f\"(USD)|(EUR)|(GBP)|[{''.join(chr(i) for i in range(0xffff) if unicodedata.category(chr(i)) == 'Sc')}]\"\n",
    "            X[:, content_ix] = np.array([re.sub(currency_regex, \" currency_marker \", text) for text in X[:, content_ix]])\n",
    "        \n",
    "        if number_subs:\n",
    "            number_regex\n",
    "            X[:, content_ix] = np.array([re.sub(currency_regex, \" currency_marker \", text) for text in X[:, content_ix]])\n",
    "        \n",
    "\n",
    "        return X"
   ]
  },
  {
   "cell_type": "code",
   "execution_count": 120,
   "id": "c8e24db6",
   "metadata": {},
   "outputs": [
    {
     "data": {
      "text/plain": [
       "'entre em URL_MARKER ou URL_MARKER ou URL_MARKER ou URL_MARKER'"
      ]
     },
     "execution_count": 120,
     "metadata": {},
     "output_type": "execute_result"
    }
   ],
   "source": [
    "teste = \"entre em http://www.banana.com ou https://www.banana.com ou http://banana.com ou www.banana.com\"\n",
    "re.sub(\"((https?\\:\\/\\/(www\\.)?)|(www\\.))(\\S+)(\\s|$)\", \"URL \", teste)\n",
    "re.sub(\n",
    "    r\"(?i)\\b((?:https?://|www\\d{0,3}[.]|[a-z0-9.\\-]+[.][a-z]{2,4}/)(?:[^\\s()<>]+|\\(([^\\s()<>]+|(\\([^\\s()<>]+\\)))*\\))+(?:\\(([^\\s()<>]+|(\\([^\\s()<>]+\\)))*\\)|[^\\s`!()\\[\\]{};:'\\\".,<>?«»“”‘’]))\",\n",
    "    \"URL_MARKER\",\n",
    "    teste\n",
    ")"
   ]
  },
  {
   "cell_type": "code",
   "execution_count": 117,
   "id": "128056bc",
   "metadata": {},
   "outputs": [
    {
     "data": {
      "text/plain": [
       "'entre em http://www.facebook.com. Ou https://www.banana.com ou http://banana.com ou www.banana.com'"
      ]
     },
     "execution_count": 117,
     "metadata": {},
     "output_type": "execute_result"
    }
   ],
   "source": [
    "'entre em http://www.facebook.com. Ou https://www.banana.com ou http://banana.com ou www.banana.com'"
   ]
  },
  {
   "cell_type": "code",
   "execution_count": 47,
   "id": "712751a0",
   "metadata": {},
   "outputs": [
    {
     "data": {
      "text/plain": [
       "'aaaa'"
      ]
     },
     "execution_count": 47,
     "metadata": {},
     "output_type": "execute_result"
    }
   ],
   "source": [
    "\"AAAA\".lower()"
   ]
  },
  {
   "cell_type": "code",
   "execution_count": 164,
   "id": "5ecd3b3c",
   "metadata": {
    "scrolled": true
   },
   "outputs": [
    {
     "data": {
      "text/plain": [
       "[('123,5', ',5')]"
      ]
     },
     "execution_count": 164,
     "metadata": {},
     "output_type": "execute_result"
    }
   ],
   "source": [
    "re.findall('(\\d+([,.]\\d+)*)', 'O valor é 123,5')"
   ]
  },
  {
   "cell_type": "code",
   "execution_count": 142,
   "id": "2cfb70ca",
   "metadata": {},
   "outputs": [],
   "source": [
    "import unicodedata\n",
    "currency_regex = f\"(USD)|(EUR)|(GBP)|[{''.join(chr(i) for i in range(0xffff) if unicodedata.category(chr(i)) == 'Sc')}]\""
   ]
  },
  {
   "cell_type": "code",
   "execution_count": 143,
   "id": "274ead72",
   "metadata": {},
   "outputs": [
    {
     "data": {
      "text/plain": [
       "'(USD)|(EUR)|(GBP)|[$¢£¤¥֏؋߾߿৲৳৻૱௹฿៛₠₡₢₣₤₥₦₧₨₩₪₫€₭₮₯₰₱₲₳₴₵₶₷₸₹₺₻₼₽₾₿꠸﷼﹩＄￠￡￥￦]'"
      ]
     },
     "execution_count": 143,
     "metadata": {},
     "output_type": "execute_result"
    }
   ],
   "source": [
    "currency_symbols"
   ]
  },
  {
   "cell_type": "code",
   "execution_count": 147,
   "id": "07286cae",
   "metadata": {},
   "outputs": [
    {
     "data": {
      "text/plain": [
       "'Me da MONEY) 2 ou MONEY5 ou MONEY24 ou MONEY123'"
      ]
     },
     "execution_count": 147,
     "metadata": {},
     "output_type": "execute_result"
    }
   ],
   "source": [
    "teste_currency = \"Me da EU) 2 ou $5 ou USD24 ou £123\"\n",
    "re.sub(currency_symbols, \"MONEY\", teste_currency)"
   ]
  },
  {
   "cell_type": "code",
   "execution_count": 169,
   "id": "81c49492",
   "metadata": {},
   "outputs": [
    {
     "name": "stderr",
     "output_type": "stream",
     "text": [
      "fatal: you must specify path(s) to restore\n"
     ]
    }
   ],
   "source": [
    "!git restore"
   ]
  },
  {
   "cell_type": "markdown",
   "id": "d67f12c5",
   "metadata": {},
   "source": [
    "# Pipeline\n",
    "\n",
    "contar a ocorrencia de cada palavra (binario ou frequencia?)\n",
    "\n",
    "selecionar mais frequentes\n",
    "\n",
    "tirar stopwords\n",
    "\n",
    "pontuação provavelmente contar (!, ?)\n",
    "\n",
    "tirar header do email (separar texto na primeira quebra de linha dupla (acho)) ou nao tirar?? pode avaliar assunto e quem enviou\n",
    "\n",
    "substituir urls por URL, numeros por NUMBER, $ por MONEY talvez\n",
    "\n",
    "stemming\n",
    "\n",
    "tratar html </>\n",
    "\n",
    "replies? \\t |"
   ]
  }
 ],
 "metadata": {
  "kernelspec": {
   "display_name": "Python 3 (ipykernel)",
   "language": "python",
   "name": "python3"
  },
  "language_info": {
   "codemirror_mode": {
    "name": "ipython",
    "version": 3
   },
   "file_extension": ".py",
   "mimetype": "text/x-python",
   "name": "python",
   "nbconvert_exporter": "python",
   "pygments_lexer": "ipython3",
   "version": "3.8.9"
  },
  "varInspector": {
   "cols": {
    "lenName": 16,
    "lenType": 16,
    "lenVar": 40
   },
   "kernels_config": {
    "python": {
     "delete_cmd_postfix": "",
     "delete_cmd_prefix": "del ",
     "library": "var_list.py",
     "varRefreshCmd": "print(var_dic_list())"
    },
    "r": {
     "delete_cmd_postfix": ") ",
     "delete_cmd_prefix": "rm(",
     "library": "var_list.r",
     "varRefreshCmd": "cat(var_dic_list()) "
    }
   },
   "types_to_exclude": [
    "module",
    "function",
    "builtin_function_or_method",
    "instance",
    "_Feature"
   ],
   "window_display": false
  }
 },
 "nbformat": 4,
 "nbformat_minor": 5
}
