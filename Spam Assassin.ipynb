{
 "cells": [
  {
   "cell_type": "code",
   "execution_count": 1,
   "id": "3b2ca1de",
   "metadata": {},
   "outputs": [],
   "source": [
    "import os\n",
    "import tarfile\n",
    "import urllib\n",
    "import re\n",
    "import bz2\n",
    "import pandas as pd"
   ]
  },
  {
   "cell_type": "code",
   "execution_count": 2,
   "id": "c78d33e3",
   "metadata": {},
   "outputs": [],
   "source": [
    "DOWNLOAD_ROOT = \"https://spamassassin.apache.org\"\n",
    "SPAM_PATH = os.path.join(\"datasets\", \"spam\")\n",
    "SPAM_URL = DOWNLOAD_ROOT + \"/old/publiccorpus/\"\n",
    "\n",
    "def fetch_spam_data(spam_url=SPAM_URL, spam_path=SPAM_PATH):\n",
    "    os.makedirs(spam_path, exist_ok=True)\n",
    "    urlpath = urllib.request.urlopen('https://spamassassin.apache.org/old/publiccorpus/')\n",
    "    string = urlpath.read().decode('utf-8')\n",
    "    pattern = re.compile('href=\".*\\.bz2\"')\n",
    "    filelist = [f[6:-1] for f in pattern.findall(string)]\n",
    "    for f in filelist:\n",
    "        bz2path = os.path.join(spam_path, f)\n",
    "        urllib.request.urlretrieve(spam_url+f, bz2path)\n",
    "        with bz2.BZ2File(bz2path) as bz2_file:\n",
    "            data = bz2_file.read()\n",
    "        tarpath = bz2path[:-4]\n",
    "        open(tarpath, 'wb').write(data)\n",
    "        with tarfile.open(tarpath) as tar_file:\n",
    "            tar_file.extractall(path=spam_path)\n",
    "        os.remove(bz2path)\n",
    "        os.remove(tarpath)"
   ]
  },
  {
   "cell_type": "code",
   "execution_count": 3,
   "id": "3616772b",
   "metadata": {},
   "outputs": [],
   "source": [
    "# fetch_spam_data()"
   ]
  },
  {
   "cell_type": "code",
   "execution_count": 82,
   "id": "882e30fb",
   "metadata": {
    "scrolled": true
   },
   "outputs": [],
   "source": [
    "contents = []\n",
    "cats = []\n",
    "\n",
    "for cat in os.listdir(SPAM_PATH):\n",
    "    cat_path = os.path.join(SPAM_PATH, cat)\n",
    "    cat_files = os.listdir(cat_path)\n",
    "    cat_contents = [open(os.path.join(cat_path, f), encoding='ansi').read() for f in cat_files if f != \"cmds\"]\n",
    "    contents += cat_contents\n",
    "    cats += [cat] * len(cat_contents)\n",
    "    \n",
    "emails = pd.DataFrame(data={'Content': contents, 'Cat': cats})"
   ]
  },
  {
   "cell_type": "code",
   "execution_count": 83,
   "id": "bfe0db23",
   "metadata": {},
   "outputs": [
    {
     "name": "stdout",
     "output_type": "stream",
     "text": [
      "<class 'pandas.core.frame.DataFrame'>\n",
      "RangeIndex: 9349 entries, 0 to 9348\n",
      "Data columns (total 2 columns):\n",
      " #   Column   Non-Null Count  Dtype \n",
      "---  ------   --------------  ----- \n",
      " 0   Content  9349 non-null   object\n",
      " 1   Cat      9349 non-null   object\n",
      "dtypes: object(2)\n",
      "memory usage: 146.2+ KB\n"
     ]
    }
   ],
   "source": [
    "emails.info()"
   ]
  },
  {
   "cell_type": "code",
   "execution_count": 84,
   "id": "be6f75d9",
   "metadata": {
    "scrolled": true
   },
   "outputs": [
    {
     "data": {
      "text/plain": [
       "easy_ham      5051\n",
       "easy_ham_2    1400\n",
       "spam_2        1397\n",
       "spam          1001\n",
       "hard_ham       500\n",
       "Name: Cat, dtype: int64"
      ]
     },
     "execution_count": 84,
     "metadata": {},
     "output_type": "execute_result"
    }
   ],
   "source": [
    "emails['Cat'].value_counts()"
   ]
  },
  {
   "cell_type": "code",
   "execution_count": 85,
   "id": "06d9e8a2",
   "metadata": {},
   "outputs": [],
   "source": [
    "emails[\"Cat\"] = emails.apply(lambda row: row[\"Cat\"][:-2] if (row[\"Cat\"][-2] == '_' and row[\"Cat\"][-1].isdigit()) else row[\"Cat\"], axis=1)"
   ]
  },
  {
   "cell_type": "code",
   "execution_count": 86,
   "id": "1a145969",
   "metadata": {
    "scrolled": false
   },
   "outputs": [
    {
     "data": {
      "text/plain": [
       "easy_ham    0.690020\n",
       "spam        0.256498\n",
       "hard_ham    0.053482\n",
       "Name: Cat, dtype: float64"
      ]
     },
     "execution_count": 86,
     "metadata": {},
     "output_type": "execute_result"
    }
   ],
   "source": [
    "emails['Cat'].value_counts()/len(emails)"
   ]
  },
  {
   "cell_type": "code",
   "execution_count": 87,
   "id": "579ba432",
   "metadata": {},
   "outputs": [],
   "source": [
    "emails['Label'] = emails['Cat'].str.contains('spam').astype(int)"
   ]
  },
  {
   "cell_type": "code",
   "execution_count": 88,
   "id": "2742534d",
   "metadata": {
    "scrolled": true
   },
   "outputs": [
    {
     "data": {
      "text/html": [
       "<div>\n",
       "<style scoped>\n",
       "    .dataframe tbody tr th:only-of-type {\n",
       "        vertical-align: middle;\n",
       "    }\n",
       "\n",
       "    .dataframe tbody tr th {\n",
       "        vertical-align: top;\n",
       "    }\n",
       "\n",
       "    .dataframe thead th {\n",
       "        text-align: right;\n",
       "    }\n",
       "</style>\n",
       "<table border=\"1\" class=\"dataframe\">\n",
       "  <thead>\n",
       "    <tr style=\"text-align: right;\">\n",
       "      <th></th>\n",
       "      <th>Content</th>\n",
       "      <th>Cat</th>\n",
       "      <th>Label</th>\n",
       "    </tr>\n",
       "  </thead>\n",
       "  <tbody>\n",
       "    <tr>\n",
       "      <th>0</th>\n",
       "      <td>From exmh-workers-admin@redhat.com  Thu Aug 22...</td>\n",
       "      <td>easy_ham</td>\n",
       "      <td>0</td>\n",
       "    </tr>\n",
       "    <tr>\n",
       "      <th>1</th>\n",
       "      <td>From Steve_Burt@cursor-system.com  Thu Aug 22 ...</td>\n",
       "      <td>easy_ham</td>\n",
       "      <td>0</td>\n",
       "    </tr>\n",
       "    <tr>\n",
       "      <th>2</th>\n",
       "      <td>From timc@2ubh.com  Thu Aug 22 13:52:59 2002\\n...</td>\n",
       "      <td>easy_ham</td>\n",
       "      <td>0</td>\n",
       "    </tr>\n",
       "    <tr>\n",
       "      <th>3</th>\n",
       "      <td>From irregulars-admin@tb.tf  Thu Aug 22 14:23:...</td>\n",
       "      <td>easy_ham</td>\n",
       "      <td>0</td>\n",
       "    </tr>\n",
       "    <tr>\n",
       "      <th>4</th>\n",
       "      <td>From Stewart.Smith@ee.ed.ac.uk  Thu Aug 22 14:...</td>\n",
       "      <td>easy_ham</td>\n",
       "      <td>0</td>\n",
       "    </tr>\n",
       "    <tr>\n",
       "      <th>...</th>\n",
       "      <td>...</td>\n",
       "      <td>...</td>\n",
       "      <td>...</td>\n",
       "    </tr>\n",
       "    <tr>\n",
       "      <th>9344</th>\n",
       "      <td>From Professional_Career_Development_Institute...</td>\n",
       "      <td>spam</td>\n",
       "      <td>1</td>\n",
       "    </tr>\n",
       "    <tr>\n",
       "      <th>9345</th>\n",
       "      <td>From tba@insiq.us  Wed Dec  4 11:46:34 2002\\nR...</td>\n",
       "      <td>spam</td>\n",
       "      <td>1</td>\n",
       "    </tr>\n",
       "    <tr>\n",
       "      <th>9346</th>\n",
       "      <td>Return-Path: &lt;raye@yahoo.lv&gt;\\nReceived: from u...</td>\n",
       "      <td>spam</td>\n",
       "      <td>1</td>\n",
       "    </tr>\n",
       "    <tr>\n",
       "      <th>9347</th>\n",
       "      <td>From cweqx@dialix.oz.au  Tue Aug  6 11:03:54 2...</td>\n",
       "      <td>spam</td>\n",
       "      <td>1</td>\n",
       "    </tr>\n",
       "    <tr>\n",
       "      <th>9348</th>\n",
       "      <td>From ilug-admin@linux.ie  Wed Dec  4 11:52:36 ...</td>\n",
       "      <td>spam</td>\n",
       "      <td>1</td>\n",
       "    </tr>\n",
       "  </tbody>\n",
       "</table>\n",
       "<p>9349 rows × 3 columns</p>\n",
       "</div>"
      ],
      "text/plain": [
       "                                                Content       Cat  Label\n",
       "0     From exmh-workers-admin@redhat.com  Thu Aug 22...  easy_ham      0\n",
       "1     From Steve_Burt@cursor-system.com  Thu Aug 22 ...  easy_ham      0\n",
       "2     From timc@2ubh.com  Thu Aug 22 13:52:59 2002\\n...  easy_ham      0\n",
       "3     From irregulars-admin@tb.tf  Thu Aug 22 14:23:...  easy_ham      0\n",
       "4     From Stewart.Smith@ee.ed.ac.uk  Thu Aug 22 14:...  easy_ham      0\n",
       "...                                                 ...       ...    ...\n",
       "9344  From Professional_Career_Development_Institute...      spam      1\n",
       "9345  From tba@insiq.us  Wed Dec  4 11:46:34 2002\\nR...      spam      1\n",
       "9346  Return-Path: <raye@yahoo.lv>\\nReceived: from u...      spam      1\n",
       "9347  From cweqx@dialix.oz.au  Tue Aug  6 11:03:54 2...      spam      1\n",
       "9348  From ilug-admin@linux.ie  Wed Dec  4 11:52:36 ...      spam      1\n",
       "\n",
       "[9349 rows x 3 columns]"
      ]
     },
     "execution_count": 88,
     "metadata": {},
     "output_type": "execute_result"
    }
   ],
   "source": [
    "emails"
   ]
  },
  {
   "cell_type": "code",
   "execution_count": 89,
   "id": "b72736ba",
   "metadata": {},
   "outputs": [],
   "source": [
    "from sklearn.model_selection import StratifiedShuffleSplit\n",
    "\n",
    "split = StratifiedShuffleSplit(n_splits=1, test_size=0.2, random_state=42)\n",
    "for train_index, test_index in split.split(emails, emails[\"Cat\"]):\n",
    "    strat_train_set = emails.loc[train_index]\n",
    "    strat_test_set = emails.loc[test_index]"
   ]
  },
  {
   "cell_type": "code",
   "execution_count": 90,
   "id": "5d9b20e9",
   "metadata": {},
   "outputs": [
    {
     "data": {
      "text/plain": [
       "easy_ham    0.690066\n",
       "spam        0.256451\n",
       "hard_ham    0.053483\n",
       "Name: Cat, dtype: float64"
      ]
     },
     "execution_count": 90,
     "metadata": {},
     "output_type": "execute_result"
    }
   ],
   "source": [
    "strat_train_set['Cat'].value_counts()/len(strat_train_set)"
   ]
  },
  {
   "cell_type": "code",
   "execution_count": 91,
   "id": "10b8b5e4",
   "metadata": {},
   "outputs": [
    {
     "data": {
      "text/plain": [
       "easy_ham    0.689840\n",
       "spam        0.256684\n",
       "hard_ham    0.053476\n",
       "Name: Cat, dtype: float64"
      ]
     },
     "execution_count": 91,
     "metadata": {},
     "output_type": "execute_result"
    }
   ],
   "source": [
    "strat_test_set['Cat'].value_counts()/len(strat_test_set)"
   ]
  },
  {
   "cell_type": "code",
   "execution_count": 93,
   "id": "33a1737e",
   "metadata": {},
   "outputs": [
    {
     "data": {
      "text/html": [
       "<div>\n",
       "<style scoped>\n",
       "    .dataframe tbody tr th:only-of-type {\n",
       "        vertical-align: middle;\n",
       "    }\n",
       "\n",
       "    .dataframe tbody tr th {\n",
       "        vertical-align: top;\n",
       "    }\n",
       "\n",
       "    .dataframe thead th {\n",
       "        text-align: right;\n",
       "    }\n",
       "</style>\n",
       "<table border=\"1\" class=\"dataframe\">\n",
       "  <thead>\n",
       "    <tr style=\"text-align: right;\">\n",
       "      <th></th>\n",
       "      <th>Content</th>\n",
       "      <th>Cat</th>\n",
       "      <th>Label</th>\n",
       "    </tr>\n",
       "  </thead>\n",
       "  <tbody>\n",
       "    <tr>\n",
       "      <th>0</th>\n",
       "      <td>From exmh-workers-admin@redhat.com  Thu Aug 22...</td>\n",
       "      <td>easy_ham</td>\n",
       "      <td>0</td>\n",
       "    </tr>\n",
       "    <tr>\n",
       "      <th>1</th>\n",
       "      <td>From Steve_Burt@cursor-system.com  Thu Aug 22 ...</td>\n",
       "      <td>easy_ham</td>\n",
       "      <td>0</td>\n",
       "    </tr>\n",
       "    <tr>\n",
       "      <th>2</th>\n",
       "      <td>From timc@2ubh.com  Thu Aug 22 13:52:59 2002\\n...</td>\n",
       "      <td>easy_ham</td>\n",
       "      <td>0</td>\n",
       "    </tr>\n",
       "    <tr>\n",
       "      <th>3</th>\n",
       "      <td>From irregulars-admin@tb.tf  Thu Aug 22 14:23:...</td>\n",
       "      <td>easy_ham</td>\n",
       "      <td>0</td>\n",
       "    </tr>\n",
       "    <tr>\n",
       "      <th>4</th>\n",
       "      <td>From Stewart.Smith@ee.ed.ac.uk  Thu Aug 22 14:...</td>\n",
       "      <td>easy_ham</td>\n",
       "      <td>0</td>\n",
       "    </tr>\n",
       "    <tr>\n",
       "      <th>...</th>\n",
       "      <td>...</td>\n",
       "      <td>...</td>\n",
       "      <td>...</td>\n",
       "    </tr>\n",
       "    <tr>\n",
       "      <th>9344</th>\n",
       "      <td>From Professional_Career_Development_Institute...</td>\n",
       "      <td>spam</td>\n",
       "      <td>1</td>\n",
       "    </tr>\n",
       "    <tr>\n",
       "      <th>9345</th>\n",
       "      <td>From tba@insiq.us  Wed Dec  4 11:46:34 2002\\nR...</td>\n",
       "      <td>spam</td>\n",
       "      <td>1</td>\n",
       "    </tr>\n",
       "    <tr>\n",
       "      <th>9346</th>\n",
       "      <td>Return-Path: &lt;raye@yahoo.lv&gt;\\nReceived: from u...</td>\n",
       "      <td>spam</td>\n",
       "      <td>1</td>\n",
       "    </tr>\n",
       "    <tr>\n",
       "      <th>9347</th>\n",
       "      <td>From cweqx@dialix.oz.au  Tue Aug  6 11:03:54 2...</td>\n",
       "      <td>spam</td>\n",
       "      <td>1</td>\n",
       "    </tr>\n",
       "    <tr>\n",
       "      <th>9348</th>\n",
       "      <td>From ilug-admin@linux.ie  Wed Dec  4 11:52:36 ...</td>\n",
       "      <td>spam</td>\n",
       "      <td>1</td>\n",
       "    </tr>\n",
       "  </tbody>\n",
       "</table>\n",
       "<p>9349 rows × 3 columns</p>\n",
       "</div>"
      ],
      "text/plain": [
       "                                                Content       Cat  Label\n",
       "0     From exmh-workers-admin@redhat.com  Thu Aug 22...  easy_ham      0\n",
       "1     From Steve_Burt@cursor-system.com  Thu Aug 22 ...  easy_ham      0\n",
       "2     From timc@2ubh.com  Thu Aug 22 13:52:59 2002\\n...  easy_ham      0\n",
       "3     From irregulars-admin@tb.tf  Thu Aug 22 14:23:...  easy_ham      0\n",
       "4     From Stewart.Smith@ee.ed.ac.uk  Thu Aug 22 14:...  easy_ham      0\n",
       "...                                                 ...       ...    ...\n",
       "9344  From Professional_Career_Development_Institute...      spam      1\n",
       "9345  From tba@insiq.us  Wed Dec  4 11:46:34 2002\\nR...      spam      1\n",
       "9346  Return-Path: <raye@yahoo.lv>\\nReceived: from u...      spam      1\n",
       "9347  From cweqx@dialix.oz.au  Tue Aug  6 11:03:54 2...      spam      1\n",
       "9348  From ilug-admin@linux.ie  Wed Dec  4 11:52:36 ...      spam      1\n",
       "\n",
       "[9349 rows x 3 columns]"
      ]
     },
     "execution_count": 93,
     "metadata": {},
     "output_type": "execute_result"
    }
   ],
   "source": [
    "emails"
   ]
  },
  {
   "cell_type": "code",
   "execution_count": 101,
   "id": "451d1687",
   "metadata": {
    "scrolled": false
   },
   "outputs": [
    {
     "ename": "NameError",
     "evalue": "name 'CombinedAttributesAdder' is not defined",
     "output_type": "error",
     "traceback": [
      "\u001b[1;31m---------------------------------------------------------------------------\u001b[0m",
      "\u001b[1;31mNameError\u001b[0m                                 Traceback (most recent call last)",
      "\u001b[1;32mC:\\Users\\VICTOR~1\\AppData\\Local\\Temp/ipykernel_31496/1789406592.py\u001b[0m in \u001b[0;36m<module>\u001b[1;34m\u001b[0m\n\u001b[0;32m     19\u001b[0m         \u001b[1;32mreturn\u001b[0m \u001b[0mX\u001b[0m\u001b[1;33m\u001b[0m\u001b[1;33m\u001b[0m\u001b[0m\n\u001b[0;32m     20\u001b[0m \u001b[1;33m\u001b[0m\u001b[0m\n\u001b[1;32m---> 21\u001b[1;33m \u001b[0mattr_adder\u001b[0m \u001b[1;33m=\u001b[0m \u001b[0mCombinedAttributesAdder\u001b[0m\u001b[1;33m(\u001b[0m\u001b[0madd_bedrooms_per_room\u001b[0m\u001b[1;33m=\u001b[0m\u001b[1;32mFalse\u001b[0m\u001b[1;33m)\u001b[0m\u001b[1;33m\u001b[0m\u001b[1;33m\u001b[0m\u001b[0m\n\u001b[0m\u001b[0;32m     22\u001b[0m \u001b[0mhousing_extra_attribs\u001b[0m \u001b[1;33m=\u001b[0m \u001b[0mattr_adder\u001b[0m\u001b[1;33m.\u001b[0m\u001b[0mtransform\u001b[0m\u001b[1;33m(\u001b[0m\u001b[0mhousing\u001b[0m\u001b[1;33m.\u001b[0m\u001b[0mvalues\u001b[0m\u001b[1;33m)\u001b[0m\u001b[1;33m\u001b[0m\u001b[1;33m\u001b[0m\u001b[0m\n",
      "\u001b[1;31mNameError\u001b[0m: name 'CombinedAttributesAdder' is not defined"
     ]
    }
   ],
   "source": [
    "from sklearn.base import BaseEstimator, TransformerMixin\n",
    "import email\n",
    "from email_reply_parser import EmailReplyParser\n",
    "\n",
    "# column index\n",
    "content_ix = 0\n",
    "\n",
    "class MyEmailParser(BaseEstimator, TransformerMixin):\n",
    "    def __init__(self, strip_headers=True): # no *args or **kargs\n",
    "        self.strip_headers = strip_headers\n",
    "    def fit(self, X, y=None):\n",
    "        return self  # nothing else to do\n",
    "    def transform(self, X):\n",
    "        if self.strip_headers:\n",
    "            new_contents = []\n",
    "            for email_content in X[:, content_ix]:\n",
    "                new = ''\n",
    "                message = email.message_from_string(email_content)\n",
    "                if message.is_multipart():\n",
    "                    for payload in message.get_payload():\n",
    "                        new += payload.get_payload()\n",
    "                else:\n",
    "                    new = message.get_payload()\n",
    "                new_contents += [new]\n",
    "            X[:, content_ix] = np.array(new_contents)\n",
    "\n",
    "        return X\n",
    "\n",
    "# attr_adder = CombinedAttributesAdder(add_bedrooms_per_room=False)\n",
    "# housing_extra_attribs = attr_adder.transform(housing.values)"
   ]
  },
  {
   "cell_type": "code",
   "execution_count": 136,
   "id": "3fdb75f5",
   "metadata": {},
   "outputs": [],
   "source": [
    "new_contents = []\n",
    "for email_content in emails[emails.Content.str.contains('text/html')].values[0:3, 0]:\n",
    "    new = ''\n",
    "    message = email.message_from_string(email_content)\n",
    "    if message.is_multipart():\n",
    "        for payload in message.get_payload():\n",
    "            new += payload.get_payload()\n",
    "    else:\n",
    "        new = message.get_payload()\n",
    "    new_contents += [new]\n",
    "stripado = np.array(new_contents)"
   ]
  },
  {
   "cell_type": "code",
   "execution_count": 138,
   "id": "536ebb32",
   "metadata": {},
   "outputs": [
    {
     "name": "stdout",
     "output_type": "stream",
     "text": [
      "I'm using Simple DNS from JHSoft.  We support only a few web sites and =\n",
      "I'd like to swap secondary services with someone in a similar position.\n",
      "\n",
      "We have a static IP, DSL line and a 24/7 set of web, SQL, mail and now a =\n",
      "DNS server.  As I said, we are hosting about 10 web sites, web and DNS =\n",
      "traffic is almost nothing.  Everything is on lightly loaded APC battery =\n",
      "backups so we are very seldom down.\n",
      "\n",
      "I'd like to swap with someone also using Simple DNS to take advantage of =\n",
      "the trusted zone file transfer option.\n",
      "\n",
      "\n",
      "\n",
      "Bob Musser\n",
      "Database Services, Inc.\n",
      "Makers of:\n",
      "   Process Server's Toolbox\n",
      "   Courier Service Toolbox\n",
      "BobM@dbsinfo.com\n",
      "www.dbsinfo.com\n",
      "106 Longhorn Road\n",
      "Winter Park FL 32792\n",
      "(407) 679-1539\n",
      "\n",
      "\n",
      "<!DOCTYPE HTML PUBLIC \"-//W3C//DTD HTML 4.0 Transitional//EN\">\n",
      "<HTML><HEAD>\n",
      "<META http-equiv=3DContent-Type content=3D\"text/html; =\n",
      "charset=3Dwindows-1252\">\n",
      "<META content=3D\"MSHTML 6.00.2716.2200\" name=3DGENERATOR>\n",
      "<STYLE></STYLE>\n",
      "</HEAD>\n",
      "<BODY bgColor=3D#ffffff>\n",
      "<DIV><FONT size=3D2>I'm using Simple DNS from JHSoft.&nbsp; We support =\n",
      "only a few=20\n",
      "web sites and I'd like to swap secondary services with someone in a =\n",
      "similar=20\n",
      "position.</FONT></DIV>\n",
      "<DIV><FONT size=3D2></FONT>&nbsp;</DIV>\n",
      "<DIV><FONT size=3D2>We have a static IP, DSL line and a 24/7 set of web, =\n",
      "SQL, mail=20\n",
      "and now a DNS server.&nbsp; As I said, we are hosting about 10 web =\n",
      "sites, web=20\n",
      "and DNS traffic is almost nothing.&nbsp; Everything is on lightly loaded =\n",
      "APC=20\n",
      "battery backups so we are very seldom down.</FONT></DIV>\n",
      "<DIV><FONT size=3D2></FONT>&nbsp;</DIV>\n",
      "<DIV><FONT size=3D2>I'd like to swap with someone also using Simple DNS =\n",
      "to take=20\n",
      "advantage of the trusted zone file transfer option.</FONT></DIV>\n",
      "<DIV><FONT size=3D2></FONT>&nbsp;</DIV>\n",
      "<DIV><FONT size=3D2></FONT>&nbsp;</DIV>\n",
      "<DIV><FONT size=3D2></FONT>&nbsp;</DIV>\n",
      "<DIV><FONT size=3D2>Bob Musser<BR>Database Services, Inc.<BR>Makers=20\n",
      "of:<BR>&nbsp;&nbsp; Process Server's Toolbox<BR>&nbsp;&nbsp; Courier =\n",
      "Service=20\n",
      "Toolbox<BR><A =\n",
      "href=3D\"mailto:BobM@dbsinfo.com\">BobM@dbsinfo.com</A><BR><A=20\n",
      "href=3D\"http://www.dbsinfo.com\">www.dbsinfo.com</A><BR>106 Longhorn =\n",
      "Road<BR>Winter=20\n",
      "Park FL 32792<BR>(407) 679-1539</FONT></DIV>\n",
      "<DIV>&nbsp;</DIV>\n",
      "<DIV><FONT size=3D2></FONT>&nbsp;</DIV></BODY></HTML>\n",
      "\n"
     ]
    }
   ],
   "source": [
    "print(stripado[0])"
   ]
  },
  {
   "cell_type": "code",
   "execution_count": 135,
   "id": "b1d30ad3",
   "metadata": {},
   "outputs": [
    {
     "name": "stdout",
     "output_type": "stream",
     "text": [
      "From DNS-swap@lists.ironclad.net.au  Mon Sep  2 12:28:53 2002\n",
      "Return-Path: <DNS-swap@lists.ironclad.net.au>\n",
      "Delivered-To: zzzz@localhost.netnoteinc.com\n",
      "Received: from localhost (localhost [127.0.0.1])\n",
      "\tby phobos.labs.netnoteinc.com (Postfix) with ESMTP id 40C6C43F9B\n",
      "\tfor <zzzz@localhost>; Mon,  2 Sep 2002 07:28:52 -0400 (EDT)\n",
      "Received: from phobos [127.0.0.1]\n",
      "\tby localhost with IMAP (fetchmail-5.9.0)\n",
      "\tfor zzzz@localhost (single-drop); Mon, 02 Sep 2002 12:28:52 +0100 (IST)\n",
      "Received: from lists.ironclad.net.au ([203.30.247.12]) by\n",
      "    dogma.slashnull.org (8.11.6/8.11.6) with SMTP id g7UFQvZ30600 for\n",
      "    <zzzz@spamassassin.taint.org>; Fri, 30 Aug 2002 16:27:01 +0100\n",
      "Received: from dbsinfo.com by lists.ironclad.net.au with SMTP;\n",
      "    Sat, 31 Aug 2002 01:21:00 +1000\n",
      "Message-Id: <00c401c25039$7b055460$976fa8c0@cfl.rr.com>\n",
      "From: \"Bob Musser\" <BobM@dbsinfo.com>\n",
      "To: <DNS-swap@lists.ironclad.net.au>\n",
      "Subject: Tiny DNS Swap\n",
      "Date: Fri, 30 Aug 2002 11:25:31 -0400\n",
      "MIME-Version: 1.0\n",
      "Content-Type: multipart/alternative;\n",
      "    boundary=\"----=_NextPart_000_00C1_01C25017.F2F04E20\"\n",
      "X-Priority: 3\n",
      "X-Msmail-Priority: Normal\n",
      "X-Mailer: Microsoft Outlook Express 6.00.2600.0000\n",
      "X-Mimeole: Produced By Microsoft MimeOLE V6.00.2600.0000\n",
      "Reply-To: \"DNS-swap\" <DNS-swap@lists.ironclad.net.au>\n",
      "Sender: <DNS-swap@lists.ironclad.net.au>\n",
      "Precedence: Bulk\n",
      "List-Software: LetterRip Pro 3.0.7 by Fog City Software, Inc.\n",
      "List-Subscribe: <mailto:DNS-swap-on@lists.ironclad.net.au>\n",
      "List-Digest: <mailto:DNS-swap-digest@lists.ironclad.net.au>\n",
      "List-Unsubscribe: <mailto:DNS-swap-off@lists.ironclad.net.au>\n",
      "\n",
      "(This list is sponsored by Ironclad Networks http://www.ironclad.net.au/)\n",
      "\n",
      "This is a multi-part message in MIME format.\n",
      "\n",
      "------=_NextPart_000_00C1_01C25017.F2F04E20\n",
      "Content-Type: text/plain;\n",
      "\tcharset=\"Windows-1252\"\n",
      "Content-Transfer-Encoding: quoted-printable\n",
      "\n",
      "I'm using Simple DNS from JHSoft.  We support only a few web sites and =\n",
      "I'd like to swap secondary services with someone in a similar position.\n",
      "\n",
      "We have a static IP, DSL line and a 24/7 set of web, SQL, mail and now a =\n",
      "DNS server.  As I said, we are hosting about 10 web sites, web and DNS =\n",
      "traffic is almost nothing.  Everything is on lightly loaded APC battery =\n",
      "backups so we are very seldom down.\n",
      "\n",
      "I'd like to swap with someone also using Simple DNS to take advantage of =\n",
      "the trusted zone file transfer option.\n",
      "\n",
      "\n",
      "\n",
      "Bob Musser\n",
      "Database Services, Inc.\n",
      "Makers of:\n",
      "   Process Server's Toolbox\n",
      "   Courier Service Toolbox\n",
      "BobM@dbsinfo.com\n",
      "www.dbsinfo.com\n",
      "106 Longhorn Road\n",
      "Winter Park FL 32792\n",
      "(407) 679-1539\n",
      "\n",
      "\n",
      "\n",
      "------=_NextPart_000_00C1_01C25017.F2F04E20\n",
      "Content-Type: text/html;\n",
      "\tcharset=\"Windows-1252\"\n",
      "Content-Transfer-Encoding: quoted-printable\n",
      "\n",
      "<!DOCTYPE HTML PUBLIC \"-//W3C//DTD HTML 4.0 Transitional//EN\">\n",
      "<HTML><HEAD>\n",
      "<META http-equiv=3DContent-Type content=3D\"text/html; =\n",
      "charset=3Dwindows-1252\">\n",
      "<META content=3D\"MSHTML 6.00.2716.2200\" name=3DGENERATOR>\n",
      "<STYLE></STYLE>\n",
      "</HEAD>\n",
      "<BODY bgColor=3D#ffffff>\n",
      "<DIV><FONT size=3D2>I'm using Simple DNS from JHSoft.&nbsp; We support =\n",
      "only a few=20\n",
      "web sites and I'd like to swap secondary services with someone in a =\n",
      "similar=20\n",
      "position.</FONT></DIV>\n",
      "<DIV><FONT size=3D2></FONT>&nbsp;</DIV>\n",
      "<DIV><FONT size=3D2>We have a static IP, DSL line and a 24/7 set of web, =\n",
      "SQL, mail=20\n",
      "and now a DNS server.&nbsp; As I said, we are hosting about 10 web =\n",
      "sites, web=20\n",
      "and DNS traffic is almost nothing.&nbsp; Everything is on lightly loaded =\n",
      "APC=20\n",
      "battery backups so we are very seldom down.</FONT></DIV>\n",
      "<DIV><FONT size=3D2></FONT>&nbsp;</DIV>\n",
      "<DIV><FONT size=3D2>I'd like to swap with someone also using Simple DNS =\n",
      "to take=20\n",
      "advantage of the trusted zone file transfer option.</FONT></DIV>\n",
      "<DIV><FONT size=3D2></FONT>&nbsp;</DIV>\n",
      "<DIV><FONT size=3D2></FONT>&nbsp;</DIV>\n",
      "<DIV><FONT size=3D2></FONT>&nbsp;</DIV>\n",
      "<DIV><FONT size=3D2>Bob Musser<BR>Database Services, Inc.<BR>Makers=20\n",
      "of:<BR>&nbsp;&nbsp; Process Server's Toolbox<BR>&nbsp;&nbsp; Courier =\n",
      "Service=20\n",
      "Toolbox<BR><A =\n",
      "href=3D\"mailto:BobM@dbsinfo.com\">BobM@dbsinfo.com</A><BR><A=20\n",
      "href=3D\"http://www.dbsinfo.com\">www.dbsinfo.com</A><BR>106 Longhorn =\n",
      "Road<BR>Winter=20\n",
      "Park FL 32792<BR>(407) 679-1539</FONT></DIV>\n",
      "<DIV>&nbsp;</DIV>\n",
      "<DIV><FONT size=3D2></FONT>&nbsp;</DIV></BODY></HTML>\n",
      "\n",
      "------=_NextPart_000_00C1_01C25017.F2F04E20--\n",
      "\n",
      "\n",
      "--\n",
      "To Unsubscribe: <dns-swap-off@lists.ironclad.net.au>\n",
      "Sponsor & Host: Ironclad Networks <http://www.ironclad.net.au/>\n",
      "\n",
      "\n"
     ]
    }
   ],
   "source": [
    "print(emails[emails.Content.str.contains('text/html')].values[0, 0])"
   ]
  },
  {
   "cell_type": "markdown",
   "id": "a9fba0a9",
   "metadata": {},
   "source": [
    "URL Parser -> detecta http e https URL_TAG -> ver beautifulsoup\n",
    "\n",
    "HTML -> tira todas as tags\n",
    "\n",
    "$, euro, libra, yens etc pra MONEY_TAG\n",
    "\n",
    "numeros para NUMBER_TAG\n",
    "\n",
    "tokenizar\n",
    "\n",
    "stemming\n",
    "\n",
    "tirar stopwords\n",
    "\n",
    "selecionar só as palavras mais frequentes"
   ]
  },
  {
   "cell_type": "code",
   "execution_count": null,
   "id": "50dbd241",
   "metadata": {},
   "outputs": [],
   "source": [
    "class MyHTMLParser(BaseEstimator, TransformerMixin):\n",
    "    def __init__(self, strip_headers=True): # no *args or **kargs\n",
    "        self.strip_headers = strip_headers\n",
    "    def fit(self, X, y=None):\n",
    "        return self  # nothing else to do\n",
    "    def transform(self, X):\n",
    "        if self.strip_headers:\n",
    "            new_contents = []\n",
    "            for email_content in X[:, content_ix]:\n",
    "                new = ''\n",
    "                message = email.message_from_string(email_content)\n",
    "                if message.is_multipart():\n",
    "                    for payload in message.get_payload():\n",
    "                        new += payload.get_payload()\n",
    "                else:\n",
    "                    new = message.get_payload()\n",
    "                new_contents += [new]\n",
    "            X[:, content_ix] = np.array(new_contents)\n",
    "\n",
    "        return X"
   ]
  },
  {
   "cell_type": "markdown",
   "id": "d67f12c5",
   "metadata": {},
   "source": [
    "# Pipeline\n",
    "\n",
    "contar a ocorrencia de cada palavra (binario ou frequencia?)\n",
    "\n",
    "selecionar mais frequentes\n",
    "\n",
    "tirar stopwords\n",
    "\n",
    "pontuação provavelmente contar (!, ?)\n",
    "\n",
    "tirar header do email (separar texto na primeira quebra de linha dupla (acho)) ou nao tirar?? pode avaliar assunto e quem enviou\n",
    "\n",
    "substituir urls por URL, numeros por NUMBER, $ por MONEY talvez\n",
    "\n",
    "stemming\n",
    "\n",
    "tratar html </>\n",
    "\n",
    "replies? \\t |"
   ]
  }
 ],
 "metadata": {
  "kernelspec": {
   "display_name": "Python 3 (ipykernel)",
   "language": "python",
   "name": "python3"
  },
  "language_info": {
   "codemirror_mode": {
    "name": "ipython",
    "version": 3
   },
   "file_extension": ".py",
   "mimetype": "text/x-python",
   "name": "python",
   "nbconvert_exporter": "python",
   "pygments_lexer": "ipython3",
   "version": "3.8.9"
  },
  "varInspector": {
   "cols": {
    "lenName": 16,
    "lenType": 16,
    "lenVar": 40
   },
   "kernels_config": {
    "python": {
     "delete_cmd_postfix": "",
     "delete_cmd_prefix": "del ",
     "library": "var_list.py",
     "varRefreshCmd": "print(var_dic_list())"
    },
    "r": {
     "delete_cmd_postfix": ") ",
     "delete_cmd_prefix": "rm(",
     "library": "var_list.r",
     "varRefreshCmd": "cat(var_dic_list()) "
    }
   },
   "types_to_exclude": [
    "module",
    "function",
    "builtin_function_or_method",
    "instance",
    "_Feature"
   ],
   "window_display": false
  }
 },
 "nbformat": 4,
 "nbformat_minor": 5
}
